{
  "nbformat": 4,
  "nbformat_minor": 0,
  "metadata": {
    "colab": {
      "name": "CNN on tabular data.ipynb",
      "provenance": [],
      "authorship_tag": "ABX9TyMp+LziNOEiGrBbMxAn8QVF",
      "include_colab_link": true
    },
    "kernelspec": {
      "name": "python3",
      "display_name": "Python 3"
    },
    "language_info": {
      "name": "python"
    }
  },
  "cells": [
    {
      "cell_type": "markdown",
      "metadata": {
        "id": "view-in-github",
        "colab_type": "text"
      },
      "source": [
        "<a href=\"https://colab.research.google.com/github/shadab77/DNN/blob/main/CNN_on_tabular_data.ipynb\" target=\"_parent\"><img src=\"https://colab.research.google.com/assets/colab-badge.svg\" alt=\"Open In Colab\"/></a>"
      ]
    },
    {
      "cell_type": "code",
      "metadata": {
        "id": "48tClVeAUzAV"
      },
      "source": [
        "import tensorflow as tf\n",
        "import pandas as pd\n",
        "import numpy as np\n",
        "from sklearn.datasets import load_boston\n",
        "import matplotlib.pyplot as plt\n",
        "from sklearn.model_selection import train_test_split\n",
        "%matplotlib inline"
      ],
      "execution_count": 1,
      "outputs": []
    },
    {
      "cell_type": "code",
      "metadata": {
        "colab": {
          "base_uri": "https://localhost:8080/",
          "height": 197
        },
        "id": "8P0XgBtZU8YF",
        "outputId": "1952bd11-7857-46e1-8ad4-a535faedc5f4"
      },
      "source": [
        "boston = load_boston()\n",
        "df = pd.DataFrame(boston.data)\n",
        "df.columns = boston.feature_names\n",
        "df.head()"
      ],
      "execution_count": 3,
      "outputs": [
        {
          "output_type": "execute_result",
          "data": {
            "text/html": [
              "<div>\n",
              "<style scoped>\n",
              "    .dataframe tbody tr th:only-of-type {\n",
              "        vertical-align: middle;\n",
              "    }\n",
              "\n",
              "    .dataframe tbody tr th {\n",
              "        vertical-align: top;\n",
              "    }\n",
              "\n",
              "    .dataframe thead th {\n",
              "        text-align: right;\n",
              "    }\n",
              "</style>\n",
              "<table border=\"1\" class=\"dataframe\">\n",
              "  <thead>\n",
              "    <tr style=\"text-align: right;\">\n",
              "      <th></th>\n",
              "      <th>CRIM</th>\n",
              "      <th>ZN</th>\n",
              "      <th>INDUS</th>\n",
              "      <th>CHAS</th>\n",
              "      <th>NOX</th>\n",
              "      <th>RM</th>\n",
              "      <th>AGE</th>\n",
              "      <th>DIS</th>\n",
              "      <th>RAD</th>\n",
              "      <th>TAX</th>\n",
              "      <th>PTRATIO</th>\n",
              "      <th>B</th>\n",
              "      <th>LSTAT</th>\n",
              "    </tr>\n",
              "  </thead>\n",
              "  <tbody>\n",
              "    <tr>\n",
              "      <th>0</th>\n",
              "      <td>0.00632</td>\n",
              "      <td>18.0</td>\n",
              "      <td>2.31</td>\n",
              "      <td>0.0</td>\n",
              "      <td>0.538</td>\n",
              "      <td>6.575</td>\n",
              "      <td>65.2</td>\n",
              "      <td>4.0900</td>\n",
              "      <td>1.0</td>\n",
              "      <td>296.0</td>\n",
              "      <td>15.3</td>\n",
              "      <td>396.90</td>\n",
              "      <td>4.98</td>\n",
              "    </tr>\n",
              "    <tr>\n",
              "      <th>1</th>\n",
              "      <td>0.02731</td>\n",
              "      <td>0.0</td>\n",
              "      <td>7.07</td>\n",
              "      <td>0.0</td>\n",
              "      <td>0.469</td>\n",
              "      <td>6.421</td>\n",
              "      <td>78.9</td>\n",
              "      <td>4.9671</td>\n",
              "      <td>2.0</td>\n",
              "      <td>242.0</td>\n",
              "      <td>17.8</td>\n",
              "      <td>396.90</td>\n",
              "      <td>9.14</td>\n",
              "    </tr>\n",
              "    <tr>\n",
              "      <th>2</th>\n",
              "      <td>0.02729</td>\n",
              "      <td>0.0</td>\n",
              "      <td>7.07</td>\n",
              "      <td>0.0</td>\n",
              "      <td>0.469</td>\n",
              "      <td>7.185</td>\n",
              "      <td>61.1</td>\n",
              "      <td>4.9671</td>\n",
              "      <td>2.0</td>\n",
              "      <td>242.0</td>\n",
              "      <td>17.8</td>\n",
              "      <td>392.83</td>\n",
              "      <td>4.03</td>\n",
              "    </tr>\n",
              "    <tr>\n",
              "      <th>3</th>\n",
              "      <td>0.03237</td>\n",
              "      <td>0.0</td>\n",
              "      <td>2.18</td>\n",
              "      <td>0.0</td>\n",
              "      <td>0.458</td>\n",
              "      <td>6.998</td>\n",
              "      <td>45.8</td>\n",
              "      <td>6.0622</td>\n",
              "      <td>3.0</td>\n",
              "      <td>222.0</td>\n",
              "      <td>18.7</td>\n",
              "      <td>394.63</td>\n",
              "      <td>2.94</td>\n",
              "    </tr>\n",
              "    <tr>\n",
              "      <th>4</th>\n",
              "      <td>0.06905</td>\n",
              "      <td>0.0</td>\n",
              "      <td>2.18</td>\n",
              "      <td>0.0</td>\n",
              "      <td>0.458</td>\n",
              "      <td>7.147</td>\n",
              "      <td>54.2</td>\n",
              "      <td>6.0622</td>\n",
              "      <td>3.0</td>\n",
              "      <td>222.0</td>\n",
              "      <td>18.7</td>\n",
              "      <td>396.90</td>\n",
              "      <td>5.33</td>\n",
              "    </tr>\n",
              "  </tbody>\n",
              "</table>\n",
              "</div>"
            ],
            "text/plain": [
              "      CRIM    ZN  INDUS  CHAS    NOX  ...  RAD    TAX  PTRATIO       B  LSTAT\n",
              "0  0.00632  18.0   2.31   0.0  0.538  ...  1.0  296.0     15.3  396.90   4.98\n",
              "1  0.02731   0.0   7.07   0.0  0.469  ...  2.0  242.0     17.8  396.90   9.14\n",
              "2  0.02729   0.0   7.07   0.0  0.469  ...  2.0  242.0     17.8  392.83   4.03\n",
              "3  0.03237   0.0   2.18   0.0  0.458  ...  3.0  222.0     18.7  394.63   2.94\n",
              "4  0.06905   0.0   2.18   0.0  0.458  ...  3.0  222.0     18.7  396.90   5.33\n",
              "\n",
              "[5 rows x 13 columns]"
            ]
          },
          "metadata": {
            "tags": []
          },
          "execution_count": 3
        }
      ]
    },
    {
      "cell_type": "code",
      "metadata": {
        "colab": {
          "base_uri": "https://localhost:8080/",
          "height": 197
        },
        "id": "WaBB9GD_U8b6",
        "outputId": "c69fd69b-fd82-4144-f5bf-58f14d968c10"
      },
      "source": [
        "df['price'] = boston.target\n",
        "df.head()"
      ],
      "execution_count": 5,
      "outputs": [
        {
          "output_type": "execute_result",
          "data": {
            "text/html": [
              "<div>\n",
              "<style scoped>\n",
              "    .dataframe tbody tr th:only-of-type {\n",
              "        vertical-align: middle;\n",
              "    }\n",
              "\n",
              "    .dataframe tbody tr th {\n",
              "        vertical-align: top;\n",
              "    }\n",
              "\n",
              "    .dataframe thead th {\n",
              "        text-align: right;\n",
              "    }\n",
              "</style>\n",
              "<table border=\"1\" class=\"dataframe\">\n",
              "  <thead>\n",
              "    <tr style=\"text-align: right;\">\n",
              "      <th></th>\n",
              "      <th>CRIM</th>\n",
              "      <th>ZN</th>\n",
              "      <th>INDUS</th>\n",
              "      <th>CHAS</th>\n",
              "      <th>NOX</th>\n",
              "      <th>RM</th>\n",
              "      <th>AGE</th>\n",
              "      <th>DIS</th>\n",
              "      <th>RAD</th>\n",
              "      <th>TAX</th>\n",
              "      <th>PTRATIO</th>\n",
              "      <th>B</th>\n",
              "      <th>LSTAT</th>\n",
              "      <th>price</th>\n",
              "    </tr>\n",
              "  </thead>\n",
              "  <tbody>\n",
              "    <tr>\n",
              "      <th>0</th>\n",
              "      <td>0.00632</td>\n",
              "      <td>18.0</td>\n",
              "      <td>2.31</td>\n",
              "      <td>0.0</td>\n",
              "      <td>0.538</td>\n",
              "      <td>6.575</td>\n",
              "      <td>65.2</td>\n",
              "      <td>4.0900</td>\n",
              "      <td>1.0</td>\n",
              "      <td>296.0</td>\n",
              "      <td>15.3</td>\n",
              "      <td>396.90</td>\n",
              "      <td>4.98</td>\n",
              "      <td>24.0</td>\n",
              "    </tr>\n",
              "    <tr>\n",
              "      <th>1</th>\n",
              "      <td>0.02731</td>\n",
              "      <td>0.0</td>\n",
              "      <td>7.07</td>\n",
              "      <td>0.0</td>\n",
              "      <td>0.469</td>\n",
              "      <td>6.421</td>\n",
              "      <td>78.9</td>\n",
              "      <td>4.9671</td>\n",
              "      <td>2.0</td>\n",
              "      <td>242.0</td>\n",
              "      <td>17.8</td>\n",
              "      <td>396.90</td>\n",
              "      <td>9.14</td>\n",
              "      <td>21.6</td>\n",
              "    </tr>\n",
              "    <tr>\n",
              "      <th>2</th>\n",
              "      <td>0.02729</td>\n",
              "      <td>0.0</td>\n",
              "      <td>7.07</td>\n",
              "      <td>0.0</td>\n",
              "      <td>0.469</td>\n",
              "      <td>7.185</td>\n",
              "      <td>61.1</td>\n",
              "      <td>4.9671</td>\n",
              "      <td>2.0</td>\n",
              "      <td>242.0</td>\n",
              "      <td>17.8</td>\n",
              "      <td>392.83</td>\n",
              "      <td>4.03</td>\n",
              "      <td>34.7</td>\n",
              "    </tr>\n",
              "    <tr>\n",
              "      <th>3</th>\n",
              "      <td>0.03237</td>\n",
              "      <td>0.0</td>\n",
              "      <td>2.18</td>\n",
              "      <td>0.0</td>\n",
              "      <td>0.458</td>\n",
              "      <td>6.998</td>\n",
              "      <td>45.8</td>\n",
              "      <td>6.0622</td>\n",
              "      <td>3.0</td>\n",
              "      <td>222.0</td>\n",
              "      <td>18.7</td>\n",
              "      <td>394.63</td>\n",
              "      <td>2.94</td>\n",
              "      <td>33.4</td>\n",
              "    </tr>\n",
              "    <tr>\n",
              "      <th>4</th>\n",
              "      <td>0.06905</td>\n",
              "      <td>0.0</td>\n",
              "      <td>2.18</td>\n",
              "      <td>0.0</td>\n",
              "      <td>0.458</td>\n",
              "      <td>7.147</td>\n",
              "      <td>54.2</td>\n",
              "      <td>6.0622</td>\n",
              "      <td>3.0</td>\n",
              "      <td>222.0</td>\n",
              "      <td>18.7</td>\n",
              "      <td>396.90</td>\n",
              "      <td>5.33</td>\n",
              "      <td>36.2</td>\n",
              "    </tr>\n",
              "  </tbody>\n",
              "</table>\n",
              "</div>"
            ],
            "text/plain": [
              "      CRIM    ZN  INDUS  CHAS    NOX  ...    TAX  PTRATIO       B  LSTAT  price\n",
              "0  0.00632  18.0   2.31   0.0  0.538  ...  296.0     15.3  396.90   4.98   24.0\n",
              "1  0.02731   0.0   7.07   0.0  0.469  ...  242.0     17.8  396.90   9.14   21.6\n",
              "2  0.02729   0.0   7.07   0.0  0.469  ...  242.0     17.8  392.83   4.03   34.7\n",
              "3  0.03237   0.0   2.18   0.0  0.458  ...  222.0     18.7  394.63   2.94   33.4\n",
              "4  0.06905   0.0   2.18   0.0  0.458  ...  222.0     18.7  396.90   5.33   36.2\n",
              "\n",
              "[5 rows x 14 columns]"
            ]
          },
          "metadata": {
            "tags": []
          },
          "execution_count": 5
        }
      ]
    },
    {
      "cell_type": "code",
      "metadata": {
        "id": "EMEFkE-wWdxv",
        "outputId": "1861185b-c39c-4300-cc3d-d0e654967783",
        "colab": {
          "base_uri": "https://localhost:8080/"
        }
      },
      "source": [
        "df_np = df.to_numpy()\n",
        "X, Y = df_np[:, :-1], df_np[:, -1:]\n",
        "print(X.shape)\n",
        "print(Y.shape)"
      ],
      "execution_count": 10,
      "outputs": [
        {
          "output_type": "stream",
          "text": [
            "(506, 13)\n",
            "(506, 1)\n"
          ],
          "name": "stdout"
        }
      ]
    },
    {
      "cell_type": "code",
      "metadata": {
        "id": "TeQ4t01-Wd0K",
        "outputId": "49473581-3bca-4b1b-ad38-feb02f030752",
        "colab": {
          "base_uri": "https://localhost:8080/"
        }
      },
      "source": [
        "train_x, test_x, train_y, test_y = train_test_split(X, Y, test_size=0.10) \n",
        "\n",
        "print(train_x.shape), print(test_x.shape)\n",
        "print(train_y.shape), print(test_y.shape)"
      ],
      "execution_count": 11,
      "outputs": [
        {
          "output_type": "stream",
          "text": [
            "(455, 13)\n",
            "(51, 13)\n",
            "(455, 1)\n",
            "(51, 1)\n"
          ],
          "name": "stdout"
        },
        {
          "output_type": "execute_result",
          "data": {
            "text/plain": [
              "(None, None)"
            ]
          },
          "metadata": {
            "tags": []
          },
          "execution_count": 11
        }
      ]
    },
    {
      "cell_type": "code",
      "metadata": {
        "id": "KVQHYLfbWd3b"
      },
      "source": [
        "train_x = train_x.reshape(train_x.shape[0], train_x.shape[1], 1)\n",
        "test_x = test_x.reshape(test_x.shape[0], test_x.shape[1], 1)"
      ],
      "execution_count": 12,
      "outputs": []
    },
    {
      "cell_type": "code",
      "metadata": {
        "id": "sliDyEBCa5kZ",
        "outputId": "dc5d4a49-41ca-4aad-c7f6-36b46da9884b",
        "colab": {
          "base_uri": "https://localhost:8080/"
        }
      },
      "source": [
        "model = tf.keras.models.Sequential([\n",
        "  tf.keras.layers.Conv1D(filters=32, kernel_size=2,\n",
        "                      activation=\"relu\",\n",
        "                      input_shape=(train_x.shape[1], 1)),\n",
        "  tf.keras.layers.MaxPooling1D(pool_size=2),\n",
        "  tf.keras.layers.Flatten(),\n",
        "  tf.keras.layers.Dense(64, activation=\"relu\"),\n",
        "  tf.keras.layers.Dense(32, activation=\"relu\"),\n",
        "  tf.keras.layers.Dense(10, activation=\"relu\"),\n",
        "  tf.keras.layers.Dense(1)\n",
        "])\n",
        "model.summary()"
      ],
      "execution_count": 13,
      "outputs": [
        {
          "output_type": "stream",
          "text": [
            "Model: \"sequential\"\n",
            "_________________________________________________________________\n",
            "Layer (type)                 Output Shape              Param #   \n",
            "=================================================================\n",
            "conv1d (Conv1D)              (None, 12, 32)            96        \n",
            "_________________________________________________________________\n",
            "max_pooling1d (MaxPooling1D) (None, 6, 32)             0         \n",
            "_________________________________________________________________\n",
            "flatten (Flatten)            (None, 192)               0         \n",
            "_________________________________________________________________\n",
            "dense (Dense)                (None, 64)                12352     \n",
            "_________________________________________________________________\n",
            "dense_1 (Dense)              (None, 32)                2080      \n",
            "_________________________________________________________________\n",
            "dense_2 (Dense)              (None, 10)                330       \n",
            "_________________________________________________________________\n",
            "dense_3 (Dense)              (None, 1)                 11        \n",
            "=================================================================\n",
            "Total params: 14,869\n",
            "Trainable params: 14,869\n",
            "Non-trainable params: 0\n",
            "_________________________________________________________________\n"
          ],
          "name": "stdout"
        }
      ]
    },
    {
      "cell_type": "code",
      "metadata": {
        "id": "5iY_peLra5me",
        "outputId": "a1d51321-fa97-4018-9bb4-14a7c6f69929",
        "colab": {
          "base_uri": "https://localhost:8080/"
        }
      },
      "source": [
        "model.compile(optimizer='adam', loss='mse')\n",
        "history = model.fit(train_x, train_y, validation_data=(test_x, test_y), epochs=100, batch_size=4, verbose=1)"
      ],
      "execution_count": 14,
      "outputs": [
        {
          "output_type": "stream",
          "text": [
            "Epoch 1/100\n",
            "114/114 [==============================] - 1s 3ms/step - loss: 102.3355 - val_loss: 125.1979\n",
            "Epoch 2/100\n",
            "114/114 [==============================] - 0s 2ms/step - loss: 73.1103 - val_loss: 69.2821\n",
            "Epoch 3/100\n",
            "114/114 [==============================] - 0s 2ms/step - loss: 70.5049 - val_loss: 78.2234\n",
            "Epoch 4/100\n",
            "114/114 [==============================] - 0s 2ms/step - loss: 66.0301 - val_loss: 69.8602\n",
            "Epoch 5/100\n",
            "114/114 [==============================] - 0s 2ms/step - loss: 67.5629 - val_loss: 77.9330\n",
            "Epoch 6/100\n",
            "114/114 [==============================] - 0s 2ms/step - loss: 65.0753 - val_loss: 79.6120\n",
            "Epoch 7/100\n",
            "114/114 [==============================] - 0s 2ms/step - loss: 63.4323 - val_loss: 65.9803\n",
            "Epoch 8/100\n",
            "114/114 [==============================] - 0s 2ms/step - loss: 68.1356 - val_loss: 67.6314\n",
            "Epoch 9/100\n",
            "114/114 [==============================] - 0s 2ms/step - loss: 70.8714 - val_loss: 68.8439\n",
            "Epoch 10/100\n",
            "114/114 [==============================] - 0s 2ms/step - loss: 63.0661 - val_loss: 67.0250\n",
            "Epoch 11/100\n",
            "114/114 [==============================] - 0s 2ms/step - loss: 66.4062 - val_loss: 76.1709\n",
            "Epoch 12/100\n",
            "114/114 [==============================] - 0s 2ms/step - loss: 59.8895 - val_loss: 67.5734\n",
            "Epoch 13/100\n",
            "114/114 [==============================] - 0s 2ms/step - loss: 62.3437 - val_loss: 75.6710\n",
            "Epoch 14/100\n",
            "114/114 [==============================] - 0s 2ms/step - loss: 59.3022 - val_loss: 64.0114\n",
            "Epoch 15/100\n",
            "114/114 [==============================] - 0s 2ms/step - loss: 62.6514 - val_loss: 64.2512\n",
            "Epoch 16/100\n",
            "114/114 [==============================] - 0s 2ms/step - loss: 58.4863 - val_loss: 62.5235\n",
            "Epoch 17/100\n",
            "114/114 [==============================] - 0s 2ms/step - loss: 59.2539 - val_loss: 67.8619\n",
            "Epoch 18/100\n",
            "114/114 [==============================] - 0s 2ms/step - loss: 56.4819 - val_loss: 59.9104\n",
            "Epoch 19/100\n",
            "114/114 [==============================] - 0s 2ms/step - loss: 55.6276 - val_loss: 62.2763\n",
            "Epoch 20/100\n",
            "114/114 [==============================] - 0s 2ms/step - loss: 53.4448 - val_loss: 58.5583\n",
            "Epoch 21/100\n",
            "114/114 [==============================] - 0s 2ms/step - loss: 56.3148 - val_loss: 55.0183\n",
            "Epoch 22/100\n",
            "114/114 [==============================] - 0s 2ms/step - loss: 50.9902 - val_loss: 53.2527\n",
            "Epoch 23/100\n",
            "114/114 [==============================] - 0s 2ms/step - loss: 56.7955 - val_loss: 61.4814\n",
            "Epoch 24/100\n",
            "114/114 [==============================] - 0s 2ms/step - loss: 49.4275 - val_loss: 50.4516\n",
            "Epoch 25/100\n",
            "114/114 [==============================] - 0s 2ms/step - loss: 52.0415 - val_loss: 57.0515\n",
            "Epoch 26/100\n",
            "114/114 [==============================] - 0s 2ms/step - loss: 49.8368 - val_loss: 44.0846\n",
            "Epoch 27/100\n",
            "114/114 [==============================] - 0s 2ms/step - loss: 46.1735 - val_loss: 61.7722\n",
            "Epoch 28/100\n",
            "114/114 [==============================] - 0s 2ms/step - loss: 44.4003 - val_loss: 44.5751\n",
            "Epoch 29/100\n",
            "114/114 [==============================] - 0s 2ms/step - loss: 47.3630 - val_loss: 45.1119\n",
            "Epoch 30/100\n",
            "114/114 [==============================] - 0s 2ms/step - loss: 42.1306 - val_loss: 53.8258\n",
            "Epoch 31/100\n",
            "114/114 [==============================] - 0s 2ms/step - loss: 45.9970 - val_loss: 44.8938\n",
            "Epoch 32/100\n",
            "114/114 [==============================] - 0s 2ms/step - loss: 42.0518 - val_loss: 36.5990\n",
            "Epoch 33/100\n",
            "114/114 [==============================] - 0s 2ms/step - loss: 40.7568 - val_loss: 33.8090\n",
            "Epoch 34/100\n",
            "114/114 [==============================] - 0s 2ms/step - loss: 38.4877 - val_loss: 42.3603\n",
            "Epoch 35/100\n",
            "114/114 [==============================] - 0s 2ms/step - loss: 39.7287 - val_loss: 28.2653\n",
            "Epoch 36/100\n",
            "114/114 [==============================] - 0s 2ms/step - loss: 38.2227 - val_loss: 45.3134\n",
            "Epoch 37/100\n",
            "114/114 [==============================] - 0s 2ms/step - loss: 36.6413 - val_loss: 34.7801\n",
            "Epoch 38/100\n",
            "114/114 [==============================] - 0s 2ms/step - loss: 35.2016 - val_loss: 32.2147\n",
            "Epoch 39/100\n",
            "114/114 [==============================] - 0s 2ms/step - loss: 34.9003 - val_loss: 30.8629\n",
            "Epoch 40/100\n",
            "114/114 [==============================] - 0s 2ms/step - loss: 39.8987 - val_loss: 25.2454\n",
            "Epoch 41/100\n",
            "114/114 [==============================] - 0s 2ms/step - loss: 32.8778 - val_loss: 24.1117\n",
            "Epoch 42/100\n",
            "114/114 [==============================] - 0s 2ms/step - loss: 37.8630 - val_loss: 38.0614\n",
            "Epoch 43/100\n",
            "114/114 [==============================] - 0s 2ms/step - loss: 32.5858 - val_loss: 44.0788\n",
            "Epoch 44/100\n",
            "114/114 [==============================] - 0s 2ms/step - loss: 35.2334 - val_loss: 33.9039\n",
            "Epoch 45/100\n",
            "114/114 [==============================] - 0s 2ms/step - loss: 30.2485 - val_loss: 39.4704\n",
            "Epoch 46/100\n",
            "114/114 [==============================] - 0s 2ms/step - loss: 32.1977 - val_loss: 25.8245\n",
            "Epoch 47/100\n",
            "114/114 [==============================] - 0s 2ms/step - loss: 30.8850 - val_loss: 21.7061\n",
            "Epoch 48/100\n",
            "114/114 [==============================] - 0s 2ms/step - loss: 30.3607 - val_loss: 28.0026\n",
            "Epoch 49/100\n",
            "114/114 [==============================] - 0s 2ms/step - loss: 28.1457 - val_loss: 25.5135\n",
            "Epoch 50/100\n",
            "114/114 [==============================] - 0s 2ms/step - loss: 27.9898 - val_loss: 20.9470\n",
            "Epoch 51/100\n",
            "114/114 [==============================] - 0s 2ms/step - loss: 27.6153 - val_loss: 26.3283\n",
            "Epoch 52/100\n",
            "114/114 [==============================] - 0s 2ms/step - loss: 26.1447 - val_loss: 17.9963\n",
            "Epoch 53/100\n",
            "114/114 [==============================] - 0s 2ms/step - loss: 25.3388 - val_loss: 50.1268\n",
            "Epoch 54/100\n",
            "114/114 [==============================] - 0s 2ms/step - loss: 27.3343 - val_loss: 17.7796\n",
            "Epoch 55/100\n",
            "114/114 [==============================] - 0s 2ms/step - loss: 33.3322 - val_loss: 23.4249\n",
            "Epoch 56/100\n",
            "114/114 [==============================] - 0s 2ms/step - loss: 26.3061 - val_loss: 39.7513\n",
            "Epoch 57/100\n",
            "114/114 [==============================] - 0s 2ms/step - loss: 25.9895 - val_loss: 17.8171\n",
            "Epoch 58/100\n",
            "114/114 [==============================] - 0s 2ms/step - loss: 22.5771 - val_loss: 21.9360\n",
            "Epoch 59/100\n",
            "114/114 [==============================] - 0s 2ms/step - loss: 26.8808 - val_loss: 20.5542\n",
            "Epoch 60/100\n",
            "114/114 [==============================] - 0s 2ms/step - loss: 23.2708 - val_loss: 29.1661\n",
            "Epoch 61/100\n",
            "114/114 [==============================] - 0s 2ms/step - loss: 21.8365 - val_loss: 20.7478\n",
            "Epoch 62/100\n",
            "114/114 [==============================] - 0s 2ms/step - loss: 21.8708 - val_loss: 20.9762\n",
            "Epoch 63/100\n",
            "114/114 [==============================] - 0s 2ms/step - loss: 27.3361 - val_loss: 21.6950\n",
            "Epoch 64/100\n",
            "114/114 [==============================] - 0s 2ms/step - loss: 25.2276 - val_loss: 23.2847\n",
            "Epoch 65/100\n",
            "114/114 [==============================] - 0s 2ms/step - loss: 20.7387 - val_loss: 16.7143\n",
            "Epoch 66/100\n",
            "114/114 [==============================] - 0s 2ms/step - loss: 22.6775 - val_loss: 27.6443\n",
            "Epoch 67/100\n",
            "114/114 [==============================] - 0s 2ms/step - loss: 21.8457 - val_loss: 15.2519\n",
            "Epoch 68/100\n",
            "114/114 [==============================] - 0s 2ms/step - loss: 21.3519 - val_loss: 19.0781\n",
            "Epoch 69/100\n",
            "114/114 [==============================] - 0s 2ms/step - loss: 21.2537 - val_loss: 14.6905\n",
            "Epoch 70/100\n",
            "114/114 [==============================] - 0s 2ms/step - loss: 19.9015 - val_loss: 23.4441\n",
            "Epoch 71/100\n",
            "114/114 [==============================] - 0s 2ms/step - loss: 20.2439 - val_loss: 15.8458\n",
            "Epoch 72/100\n",
            "114/114 [==============================] - 0s 2ms/step - loss: 19.5128 - val_loss: 22.5127\n",
            "Epoch 73/100\n",
            "114/114 [==============================] - 0s 2ms/step - loss: 19.6938 - val_loss: 28.9385\n",
            "Epoch 74/100\n",
            "114/114 [==============================] - 0s 2ms/step - loss: 18.7559 - val_loss: 18.4012\n",
            "Epoch 75/100\n",
            "114/114 [==============================] - 0s 2ms/step - loss: 23.8514 - val_loss: 16.0012\n",
            "Epoch 76/100\n",
            "114/114 [==============================] - 0s 2ms/step - loss: 22.0405 - val_loss: 15.8304\n",
            "Epoch 77/100\n",
            "114/114 [==============================] - 0s 2ms/step - loss: 21.1696 - val_loss: 16.7753\n",
            "Epoch 78/100\n",
            "114/114 [==============================] - 0s 2ms/step - loss: 20.8690 - val_loss: 17.1155\n",
            "Epoch 79/100\n",
            "114/114 [==============================] - 0s 2ms/step - loss: 22.8947 - val_loss: 17.7564\n",
            "Epoch 80/100\n",
            "114/114 [==============================] - 0s 2ms/step - loss: 17.7865 - val_loss: 17.2976\n",
            "Epoch 81/100\n",
            "114/114 [==============================] - 0s 2ms/step - loss: 19.9077 - val_loss: 19.9257\n",
            "Epoch 82/100\n",
            "114/114 [==============================] - 0s 2ms/step - loss: 18.0791 - val_loss: 18.7485\n",
            "Epoch 83/100\n",
            "114/114 [==============================] - 0s 2ms/step - loss: 18.4837 - val_loss: 27.4531\n",
            "Epoch 84/100\n",
            "114/114 [==============================] - 0s 2ms/step - loss: 17.8078 - val_loss: 22.5924\n",
            "Epoch 85/100\n",
            "114/114 [==============================] - 0s 2ms/step - loss: 17.1878 - val_loss: 15.5920\n",
            "Epoch 86/100\n",
            "114/114 [==============================] - 0s 2ms/step - loss: 20.8342 - val_loss: 23.5559\n",
            "Epoch 87/100\n",
            "114/114 [==============================] - 0s 2ms/step - loss: 19.7139 - val_loss: 19.1450\n",
            "Epoch 88/100\n",
            "114/114 [==============================] - 0s 2ms/step - loss: 16.6195 - val_loss: 16.7724\n",
            "Epoch 89/100\n",
            "114/114 [==============================] - 0s 2ms/step - loss: 18.6017 - val_loss: 13.8848\n",
            "Epoch 90/100\n",
            "114/114 [==============================] - 0s 2ms/step - loss: 19.7098 - val_loss: 15.7155\n",
            "Epoch 91/100\n",
            "114/114 [==============================] - 0s 2ms/step - loss: 19.0250 - val_loss: 16.6260\n",
            "Epoch 92/100\n",
            "114/114 [==============================] - 0s 2ms/step - loss: 18.4672 - val_loss: 26.2880\n",
            "Epoch 93/100\n",
            "114/114 [==============================] - 0s 2ms/step - loss: 17.0481 - val_loss: 20.3033\n",
            "Epoch 94/100\n",
            "114/114 [==============================] - 0s 2ms/step - loss: 17.8296 - val_loss: 17.8511\n",
            "Epoch 95/100\n",
            "114/114 [==============================] - 0s 2ms/step - loss: 17.2757 - val_loss: 17.1660\n",
            "Epoch 96/100\n",
            "114/114 [==============================] - 0s 2ms/step - loss: 18.3032 - val_loss: 14.0787\n",
            "Epoch 97/100\n",
            "114/114 [==============================] - 0s 2ms/step - loss: 17.2533 - val_loss: 16.7806\n",
            "Epoch 98/100\n",
            "114/114 [==============================] - 0s 2ms/step - loss: 17.4367 - val_loss: 22.8846\n",
            "Epoch 99/100\n",
            "114/114 [==============================] - 0s 2ms/step - loss: 20.4063 - val_loss: 21.7000\n",
            "Epoch 100/100\n",
            "114/114 [==============================] - 0s 2ms/step - loss: 16.1476 - val_loss: 15.2916\n"
          ],
          "name": "stdout"
        }
      ]
    },
    {
      "cell_type": "code",
      "metadata": {
        "id": "rcPU53uca5od",
        "outputId": "12b34a0d-1785-4b48-ea2c-9b6c79bfd4ef",
        "colab": {
          "base_uri": "https://localhost:8080/"
        }
      },
      "source": [
        "acc_tr = model.evaluate(train_x, train_y)\n",
        "acc_te = model.evaluate(test_x, test_y)\n",
        "print(acc_tr, acc_te)"
      ],
      "execution_count": 15,
      "outputs": [
        {
          "output_type": "stream",
          "text": [
            "15/15 [==============================] - 0s 2ms/step - loss: 16.3512\n",
            "2/2 [==============================] - 0s 5ms/step - loss: 15.2916\n",
            "16.35123062133789 15.291621208190918\n"
          ],
          "name": "stdout"
        }
      ]
    },
    {
      "cell_type": "code",
      "metadata": {
        "id": "tRGoQgUwa5so",
        "outputId": "925b8f55-223e-4828-f5c5-175a3a268576",
        "colab": {
          "base_uri": "https://localhost:8080/",
          "height": 264
        }
      },
      "source": [
        "# plot training history\n",
        "plt.plot(history.history['loss'], label='train')\n",
        "plt.plot(history.history['val_loss'], label='test')\n",
        "plt.legend()\n",
        "plt.show()"
      ],
      "execution_count": 16,
      "outputs": [
        {
          "output_type": "display_data",
          "data": {
            "image/png": "[encoded data removed]",
            "text/plain": [
              "<Figure size 432x288 with 1 Axes>"
            ]
          },
          "metadata": {
            "tags": [],
            "needs_background": "light"
          }
        }
      ]
    },
    {
      "cell_type": "code",
      "metadata": {
        "id": "qvnL6BcTbG2D",
        "outputId": "b9b2cb62-85ca-4030-8e5e-79646b739c39",
        "colab": {
          "base_uri": "https://localhost:8080/"
        }
      },
      "source": [
        "es = tf.keras.callbacks.EarlyStopping(monitor='val_loss', mode='min', patience=20)\n",
        "history = model.fit(train_x, train_y, validation_data=(test_x, test_y), epochs=100, batch_size=4, verbose=1, callbacks=[es])"
      ],
      "execution_count": 17,
      "outputs": [
        {
          "output_type": "stream",
          "text": [
            "Epoch 1/100\n",
            "114/114 [==============================] - 0s 2ms/step - loss: 19.8232 - val_loss: 24.3773\n",
            "Epoch 2/100\n",
            "114/114 [==============================] - 0s 2ms/step - loss: 20.7801 - val_loss: 16.2647\n",
            "Epoch 3/100\n",
            "114/114 [==============================] - 0s 2ms/step - loss: 18.2991 - val_loss: 21.8066\n",
            "Epoch 4/100\n",
            "114/114 [==============================] - 0s 2ms/step - loss: 16.1733 - val_loss: 23.5502\n",
            "Epoch 5/100\n",
            "114/114 [==============================] - 0s 2ms/step - loss: 14.6220 - val_loss: 19.0730\n",
            "Epoch 6/100\n",
            "114/114 [==============================] - 0s 2ms/step - loss: 17.8517 - val_loss: 11.9415\n",
            "Epoch 7/100\n",
            "114/114 [==============================] - 0s 2ms/step - loss: 15.0969 - val_loss: 16.7565\n",
            "Epoch 8/100\n",
            "114/114 [==============================] - 0s 2ms/step - loss: 17.7904 - val_loss: 25.1817\n",
            "Epoch 9/100\n",
            "114/114 [==============================] - 0s 2ms/step - loss: 16.9266 - val_loss: 16.3174\n",
            "Epoch 10/100\n",
            "114/114 [==============================] - 0s 2ms/step - loss: 14.9833 - val_loss: 14.3106\n",
            "Epoch 11/100\n",
            "114/114 [==============================] - 0s 2ms/step - loss: 19.4022 - val_loss: 16.8820\n",
            "Epoch 12/100\n",
            "114/114 [==============================] - 0s 2ms/step - loss: 21.4536 - val_loss: 28.7063\n",
            "Epoch 13/100\n",
            "114/114 [==============================] - 0s 2ms/step - loss: 15.9714 - val_loss: 34.9948\n",
            "Epoch 14/100\n",
            "114/114 [==============================] - 0s 2ms/step - loss: 18.1762 - val_loss: 16.2976\n",
            "Epoch 15/100\n",
            "114/114 [==============================] - 0s 2ms/step - loss: 15.7404 - val_loss: 16.4893\n",
            "Epoch 16/100\n",
            "114/114 [==============================] - 0s 2ms/step - loss: 15.7263 - val_loss: 21.3702\n",
            "Epoch 17/100\n",
            "114/114 [==============================] - 0s 2ms/step - loss: 15.3205 - val_loss: 23.0897\n",
            "Epoch 18/100\n",
            "114/114 [==============================] - 0s 2ms/step - loss: 15.8979 - val_loss: 20.2693\n",
            "Epoch 19/100\n",
            "114/114 [==============================] - 0s 2ms/step - loss: 17.6198 - val_loss: 14.5104\n",
            "Epoch 20/100\n",
            "114/114 [==============================] - 0s 2ms/step - loss: 18.9448 - val_loss: 17.0444\n",
            "Epoch 21/100\n",
            "114/114 [==============================] - 0s 2ms/step - loss: 16.0630 - val_loss: 22.5899\n",
            "Epoch 22/100\n",
            "114/114 [==============================] - 0s 2ms/step - loss: 15.7290 - val_loss: 17.0101\n",
            "Epoch 23/100\n",
            "114/114 [==============================] - 0s 2ms/step - loss: 14.7562 - val_loss: 21.0655\n",
            "Epoch 24/100\n",
            "114/114 [==============================] - 0s 2ms/step - loss: 14.8713 - val_loss: 22.9184\n",
            "Epoch 25/100\n",
            "114/114 [==============================] - 0s 2ms/step - loss: 15.2410 - val_loss: 16.0170\n",
            "Epoch 26/100\n",
            "114/114 [==============================] - 0s 2ms/step - loss: 13.9927 - val_loss: 17.3939\n"
          ],
          "name": "stdout"
        }
      ]
    },
    {
      "cell_type": "code",
      "metadata": {
        "id": "nMXphBlAbG5F",
        "outputId": "61b491cd-6b67-4fef-fa50-744815416ff8",
        "colab": {
          "base_uri": "https://localhost:8080/"
        }
      },
      "source": [
        "acc_tr = model.evaluate(train_x, train_y)\n",
        "acc_te = model.evaluate(test_x, test_y)\n",
        "print(acc_tr, acc_te)"
      ],
      "execution_count": 18,
      "outputs": [
        {
          "output_type": "stream",
          "text": [
            "15/15 [==============================] - 0s 1ms/step - loss: 11.8940\n",
            "2/2 [==============================] - 0s 6ms/step - loss: 17.3939\n",
            "11.893951416015625 17.39388656616211\n"
          ],
          "name": "stdout"
        }
      ]
    },
    {
      "cell_type": "code",
      "metadata": {
        "id": "zgvMEj26bnNl",
        "outputId": "afb65a10-6f34-483c-901e-5289adc9e623",
        "colab": {
          "base_uri": "https://localhost:8080/",
          "height": 264
        }
      },
      "source": [
        "# plot training history\n",
        "plt.plot(history.history['loss'], label='train')\n",
        "plt.plot(history.history['val_loss'], label='test')\n",
        "plt.legend()\n",
        "plt.show()"
      ],
      "execution_count": 19,
      "outputs": [
        {
          "output_type": "display_data",
          "data": {
            "image/png": "[encoded data removed]",
            "text/plain": [
              "<Figure size 432x288 with 1 Axes>"
            ]
          },
          "metadata": {
            "tags": [],
            "needs_background": "light"
          }
        }
      ]
    }
  ]
}