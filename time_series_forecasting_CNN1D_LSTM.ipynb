{
  "nbformat": 4,
  "nbformat_minor": 0,
  "metadata": {
    "colab": {
      "name": "time_series_forecasting_CNN1D_LSTM.ipynb",
      "provenance": [],
      "collapsed_sections": [],
      "authorship_tag": "ABX9TyNXgnuq/8gRD/eKp+z4qpkg",
      "include_colab_link": true
    },
    "kernelspec": {
      "display_name": "Python 3",
      "name": "python3"
    },
    "language_info": {
      "name": "python"
    }
  },
  "cells": [
    {
      "cell_type": "markdown",
      "metadata": {
        "id": "view-in-github",
        "colab_type": "text"
      },
      "source": [
        "<a href=\"https://colab.research.google.com/github/shadab77/DNN/blob/main/time_series_forecasting_CNN1D_LSTM.ipynb\" target=\"_parent\"><img src=\"https://colab.research.google.com/assets/colab-badge.svg\" alt=\"Open In Colab\"/></a>"
      ]
    },
    {
      "cell_type": "markdown",
      "metadata": {
        "id": "45p_FgWmpwcR"
      },
      "source": [
        "# Import all necessary library"
      ]
    },
    {
      "cell_type": "code",
      "metadata": {
        "colab": {
          "base_uri": "https://localhost:8080/",
          "height": 202
        },
        "id": "YCwW6ialpqaS",
        "outputId": "8e48feca-d6a6-4435-9c08-b5eb9efd38c5"
      },
      "source": [
        "import tensorflow as tf\n",
        "import pandas as pd\n",
        "import numpy as np\n",
        "import datetime as dt\n",
        "from datetime import datetime\n",
        "import pickle\n",
        "from sklearn import preprocessing\n",
        "\n",
        "import matplotlib.pyplot as plt\n",
        "from sklearn.model_selection import train_test_split\n",
        "%matplotlib inline\n",
        "df = pd.read_csv('/content/sample_data/GOOG.csv')\n",
        "df.head()"
      ],
      "execution_count": 1,
      "outputs": [
        {
          "output_type": "execute_result",
          "data": {
            "text/html": [
              "<div>\n",
              "<style scoped>\n",
              "    .dataframe tbody tr th:only-of-type {\n",
              "        vertical-align: middle;\n",
              "    }\n",
              "\n",
              "    .dataframe tbody tr th {\n",
              "        vertical-align: top;\n",
              "    }\n",
              "\n",
              "    .dataframe thead th {\n",
              "        text-align: right;\n",
              "    }\n",
              "</style>\n",
              "<table border=\"1\" class=\"dataframe\">\n",
              "  <thead>\n",
              "    <tr style=\"text-align: right;\">\n",
              "      <th></th>\n",
              "      <th>Date</th>\n",
              "      <th>Open</th>\n",
              "      <th>High</th>\n",
              "      <th>Low</th>\n",
              "      <th>Close</th>\n",
              "      <th>Adj Close</th>\n",
              "      <th>Volume</th>\n",
              "    </tr>\n",
              "  </thead>\n",
              "  <tbody>\n",
              "    <tr>\n",
              "      <th>0</th>\n",
              "      <td>2008-08-22</td>\n",
              "      <td>244.832306</td>\n",
              "      <td>246.515991</td>\n",
              "      <td>243.826080</td>\n",
              "      <td>244.379013</td>\n",
              "      <td>244.379013</td>\n",
              "      <td>4611500</td>\n",
              "    </tr>\n",
              "    <tr>\n",
              "      <th>1</th>\n",
              "      <td>2008-08-25</td>\n",
              "      <td>242.147369</td>\n",
              "      <td>247.572037</td>\n",
              "      <td>239.850983</td>\n",
              "      <td>240.603165</td>\n",
              "      <td>240.603165</td>\n",
              "      <td>4043600</td>\n",
              "    </tr>\n",
              "    <tr>\n",
              "      <th>2</th>\n",
              "      <td>2008-08-26</td>\n",
              "      <td>240.827316</td>\n",
              "      <td>240.827316</td>\n",
              "      <td>234.416351</td>\n",
              "      <td>236.194687</td>\n",
              "      <td>236.194687</td>\n",
              "      <td>6641100</td>\n",
              "    </tr>\n",
              "    <tr>\n",
              "      <th>3</th>\n",
              "      <td>2008-08-27</td>\n",
              "      <td>235.980484</td>\n",
              "      <td>236.528427</td>\n",
              "      <td>231.552094</td>\n",
              "      <td>233.415100</td>\n",
              "      <td>233.415100</td>\n",
              "      <td>8807000</td>\n",
              "    </tr>\n",
              "    <tr>\n",
              "      <th>4</th>\n",
              "      <td>2008-08-28</td>\n",
              "      <td>235.362808</td>\n",
              "      <td>237.335403</td>\n",
              "      <td>234.286835</td>\n",
              "      <td>236.005386</td>\n",
              "      <td>236.005386</td>\n",
              "      <td>6082000</td>\n",
              "    </tr>\n",
              "  </tbody>\n",
              "</table>\n",
              "</div>"
            ],
            "text/plain": [
              "         Date        Open        High  ...       Close   Adj Close   Volume\n",
              "0  2008-08-22  244.832306  246.515991  ...  244.379013  244.379013  4611500\n",
              "1  2008-08-25  242.147369  247.572037  ...  240.603165  240.603165  4043600\n",
              "2  2008-08-26  240.827316  240.827316  ...  236.194687  236.194687  6641100\n",
              "3  2008-08-27  235.980484  236.528427  ...  233.415100  233.415100  8807000\n",
              "4  2008-08-28  235.362808  237.335403  ...  236.005386  236.005386  6082000\n",
              "\n",
              "[5 rows x 7 columns]"
            ]
          },
          "metadata": {
            "tags": []
          },
          "execution_count": 1
        }
      ]
    },
    {
      "cell_type": "markdown",
      "metadata": {
        "id": "j5YGfdkeqE0X"
      },
      "source": [
        "## Remove date and volume columns from data <b>\n",
        "## Split data into train and test sample"
      ]
    },
    {
      "cell_type": "code",
      "metadata": {
        "id": "3rHWCquj93x6",
        "colab": {
          "base_uri": "https://localhost:8080/"
        },
        "outputId": "56bd8eed-b0e9-4469-fce7-15806ee02812"
      },
      "source": [
        "df_date = df[['Date']]\n",
        "df.drop(['Date', 'Volume'], axis=1, inplace=True)\n",
        "train, test = df[0:2700], df[2700:]\n",
        "print(df.shape)\n",
        "print(train.shape)\n",
        "print(test.shape)"
      ],
      "execution_count": 2,
      "outputs": [
        {
          "output_type": "stream",
          "text": [
            "(2998, 5)\n",
            "(2700, 5)\n",
            "(298, 5)\n"
          ],
          "name": "stdout"
        }
      ]
    },
    {
      "cell_type": "markdown",
      "metadata": {
        "id": "6cX9kE4WqfGh"
      },
      "source": [
        "#####Apply scaling on x and y of train data "
      ]
    },
    {
      "cell_type": "code",
      "metadata": {
        "colab": {
          "base_uri": "https://localhost:8080/",
          "height": 771
        },
        "id": "MWWuwXE7ZkmJ",
        "outputId": "0744d385-69ca-4496-d7af-8fb6e9fee479"
      },
      "source": [
        "def data_preprocessing(dataset, columns, filename):\n",
        "  fn = preprocessing.StandardScaler()\n",
        "  dataset[columns] = fn.fit_transform(dataset[columns])\n",
        "  pickle.dump(fn, open('./' + filename, 'wb'))\n",
        "  return dataset\n",
        "\n",
        "cols_y = ['Open']\n",
        "cols_x = [x for x in train.columns if x not in cols_y]\n",
        "\n",
        "df_new_train = data_preprocessing(train, cols_x, 'x_StandardScaler')\n",
        "df_new_train = data_preprocessing(df_new_train, cols_y, 'y_StandardScaler')\n",
        "df_new_train.head()"
      ],
      "execution_count": 3,
      "outputs": [
        {
          "output_type": "stream",
          "text": [
            "/usr/local/lib/python3.7/dist-packages/ipykernel_launcher.py:3: SettingWithCopyWarning: \n",
            "A value is trying to be set on a copy of a slice from a DataFrame.\n",
            "Try using .loc[row_indexer,col_indexer] = value instead\n",
            "\n",
            "See the caveats in the documentation: https://pandas.pydata.org/pandas-docs/stable/user_guide/indexing.html#returning-a-view-versus-a-copy\n",
            "  This is separate from the ipykernel package so we can avoid doing imports until\n",
            "/usr/local/lib/python3.7/dist-packages/pandas/core/frame.py:3076: SettingWithCopyWarning: \n",
            "A value is trying to be set on a copy of a slice from a DataFrame\n",
            "\n",
            "See the caveats in the documentation: https://pandas.pydata.org/pandas-docs/stable/user_guide/indexing.html#returning-a-view-versus-a-copy\n",
            "  self.iloc._setitem_with_indexer((slice(None), indexer), value)\n",
            "/usr/local/lib/python3.7/dist-packages/pandas/core/frame.py:3041: SettingWithCopyWarning: \n",
            "A value is trying to be set on a copy of a slice from a DataFrame\n",
            "\n",
            "See the caveats in the documentation: https://pandas.pydata.org/pandas-docs/stable/user_guide/indexing.html#returning-a-view-versus-a-copy\n",
            "  self._setitem_array(key, value)\n",
            "/usr/local/lib/python3.7/dist-packages/ipykernel_launcher.py:3: SettingWithCopyWarning: \n",
            "A value is trying to be set on a copy of a slice from a DataFrame.\n",
            "Try using .loc[row_indexer,col_indexer] = value instead\n",
            "\n",
            "See the caveats in the documentation: https://pandas.pydata.org/pandas-docs/stable/user_guide/indexing.html#returning-a-view-versus-a-copy\n",
            "  This is separate from the ipykernel package so we can avoid doing imports until\n",
            "/usr/local/lib/python3.7/dist-packages/pandas/core/frame.py:3076: SettingWithCopyWarning: \n",
            "A value is trying to be set on a copy of a slice from a DataFrame\n",
            "\n",
            "See the caveats in the documentation: https://pandas.pydata.org/pandas-docs/stable/user_guide/indexing.html#returning-a-view-versus-a-copy\n",
            "  self.iloc._setitem_with_indexer((slice(None), indexer), value)\n",
            "/usr/local/lib/python3.7/dist-packages/pandas/core/frame.py:3041: SettingWithCopyWarning: \n",
            "A value is trying to be set on a copy of a slice from a DataFrame\n",
            "\n",
            "See the caveats in the documentation: https://pandas.pydata.org/pandas-docs/stable/user_guide/indexing.html#returning-a-view-versus-a-copy\n",
            "  self._setitem_array(key, value)\n"
          ],
          "name": "stderr"
        },
        {
          "output_type": "execute_result",
          "data": {
            "text/html": [
              "<div>\n",
              "<style scoped>\n",
              "    .dataframe tbody tr th:only-of-type {\n",
              "        vertical-align: middle;\n",
              "    }\n",
              "\n",
              "    .dataframe tbody tr th {\n",
              "        vertical-align: top;\n",
              "    }\n",
              "\n",
              "    .dataframe thead th {\n",
              "        text-align: right;\n",
              "    }\n",
              "</style>\n",
              "<table border=\"1\" class=\"dataframe\">\n",
              "  <thead>\n",
              "    <tr style=\"text-align: right;\">\n",
              "      <th></th>\n",
              "      <th>Open</th>\n",
              "      <th>High</th>\n",
              "      <th>Low</th>\n",
              "      <th>Close</th>\n",
              "      <th>Adj Close</th>\n",
              "    </tr>\n",
              "  </thead>\n",
              "  <tbody>\n",
              "    <tr>\n",
              "      <th>0</th>\n",
              "      <td>-1.002388</td>\n",
              "      <td>-1.004160</td>\n",
              "      <td>-0.997368</td>\n",
              "      <td>-1.003230</td>\n",
              "      <td>-1.003230</td>\n",
              "    </tr>\n",
              "    <tr>\n",
              "      <th>1</th>\n",
              "      <td>-1.011059</td>\n",
              "      <td>-1.000778</td>\n",
              "      <td>-1.010313</td>\n",
              "      <td>-1.015417</td>\n",
              "      <td>-1.015417</td>\n",
              "    </tr>\n",
              "    <tr>\n",
              "      <th>2</th>\n",
              "      <td>-1.015322</td>\n",
              "      <td>-1.022381</td>\n",
              "      <td>-1.028011</td>\n",
              "      <td>-1.029646</td>\n",
              "      <td>-1.029646</td>\n",
              "    </tr>\n",
              "    <tr>\n",
              "      <th>3</th>\n",
              "      <td>-1.030975</td>\n",
              "      <td>-1.036150</td>\n",
              "      <td>-1.037339</td>\n",
              "      <td>-1.038617</td>\n",
              "      <td>-1.038617</td>\n",
              "    </tr>\n",
              "    <tr>\n",
              "      <th>4</th>\n",
              "      <td>-1.032970</td>\n",
              "      <td>-1.033565</td>\n",
              "      <td>-1.028433</td>\n",
              "      <td>-1.030257</td>\n",
              "      <td>-1.030257</td>\n",
              "    </tr>\n",
              "  </tbody>\n",
              "</table>\n",
              "</div>"
            ],
            "text/plain": [
              "       Open      High       Low     Close  Adj Close\n",
              "0 -1.002388 -1.004160 -0.997368 -1.003230  -1.003230\n",
              "1 -1.011059 -1.000778 -1.010313 -1.015417  -1.015417\n",
              "2 -1.015322 -1.022381 -1.028011 -1.029646  -1.029646\n",
              "3 -1.030975 -1.036150 -1.037339 -1.038617  -1.038617\n",
              "4 -1.032970 -1.033565 -1.028433 -1.030257  -1.030257"
            ]
          },
          "metadata": {
            "tags": []
          },
          "execution_count": 3
        }
      ]
    },
    {
      "cell_type": "markdown",
      "metadata": {
        "id": "D5aj0g82q2Rr"
      },
      "source": [
        "#### Apply transformation on test data"
      ]
    },
    {
      "cell_type": "code",
      "metadata": {
        "colab": {
          "base_uri": "https://localhost:8080/",
          "height": 771
        },
        "id": "T3pDEj0lDyus",
        "outputId": "2a1f0557-17b5-4c9c-858a-0d6dae89e56d"
      },
      "source": [
        "imputer_x = pickle.load(open('x_StandardScaler','rb'))\n",
        "imputer_y = pickle.load(open('y_StandardScaler','rb'))\n",
        "def data_transformation(object, dataset, columns):\n",
        "    dataset[columns] = object.transform(dataset[columns])\n",
        "    return dataset\n",
        "\n",
        "df_new_test = data_transformation(imputer_x, test, cols_x)\n",
        "df_new_test = data_transformation(imputer_y, df_new_test, cols_y)\n",
        "df_new_test.head()"
      ],
      "execution_count": 4,
      "outputs": [
        {
          "output_type": "stream",
          "text": [
            "/usr/local/lib/python3.7/dist-packages/ipykernel_launcher.py:4: SettingWithCopyWarning: \n",
            "A value is trying to be set on a copy of a slice from a DataFrame.\n",
            "Try using .loc[row_indexer,col_indexer] = value instead\n",
            "\n",
            "See the caveats in the documentation: https://pandas.pydata.org/pandas-docs/stable/user_guide/indexing.html#returning-a-view-versus-a-copy\n",
            "  after removing the cwd from sys.path.\n",
            "/usr/local/lib/python3.7/dist-packages/pandas/core/frame.py:3076: SettingWithCopyWarning: \n",
            "A value is trying to be set on a copy of a slice from a DataFrame\n",
            "\n",
            "See the caveats in the documentation: https://pandas.pydata.org/pandas-docs/stable/user_guide/indexing.html#returning-a-view-versus-a-copy\n",
            "  self.iloc._setitem_with_indexer((slice(None), indexer), value)\n",
            "/usr/local/lib/python3.7/dist-packages/pandas/core/frame.py:3041: SettingWithCopyWarning: \n",
            "A value is trying to be set on a copy of a slice from a DataFrame\n",
            "\n",
            "See the caveats in the documentation: https://pandas.pydata.org/pandas-docs/stable/user_guide/indexing.html#returning-a-view-versus-a-copy\n",
            "  self._setitem_array(key, value)\n",
            "/usr/local/lib/python3.7/dist-packages/ipykernel_launcher.py:4: SettingWithCopyWarning: \n",
            "A value is trying to be set on a copy of a slice from a DataFrame.\n",
            "Try using .loc[row_indexer,col_indexer] = value instead\n",
            "\n",
            "See the caveats in the documentation: https://pandas.pydata.org/pandas-docs/stable/user_guide/indexing.html#returning-a-view-versus-a-copy\n",
            "  after removing the cwd from sys.path.\n",
            "/usr/local/lib/python3.7/dist-packages/pandas/core/frame.py:3076: SettingWithCopyWarning: \n",
            "A value is trying to be set on a copy of a slice from a DataFrame\n",
            "\n",
            "See the caveats in the documentation: https://pandas.pydata.org/pandas-docs/stable/user_guide/indexing.html#returning-a-view-versus-a-copy\n",
            "  self.iloc._setitem_with_indexer((slice(None), indexer), value)\n",
            "/usr/local/lib/python3.7/dist-packages/pandas/core/frame.py:3041: SettingWithCopyWarning: \n",
            "A value is trying to be set on a copy of a slice from a DataFrame\n",
            "\n",
            "See the caveats in the documentation: https://pandas.pydata.org/pandas-docs/stable/user_guide/indexing.html#returning-a-view-versus-a-copy\n",
            "  self._setitem_array(key, value)\n"
          ],
          "name": "stderr"
        },
        {
          "output_type": "execute_result",
          "data": {
            "text/html": [
              "<div>\n",
              "<style scoped>\n",
              "    .dataframe tbody tr th:only-of-type {\n",
              "        vertical-align: middle;\n",
              "    }\n",
              "\n",
              "    .dataframe tbody tr th {\n",
              "        vertical-align: top;\n",
              "    }\n",
              "\n",
              "    .dataframe thead th {\n",
              "        text-align: right;\n",
              "    }\n",
              "</style>\n",
              "<table border=\"1\" class=\"dataframe\">\n",
              "  <thead>\n",
              "    <tr style=\"text-align: right;\">\n",
              "      <th></th>\n",
              "      <th>Open</th>\n",
              "      <th>High</th>\n",
              "      <th>Low</th>\n",
              "      <th>Close</th>\n",
              "      <th>Adj Close</th>\n",
              "    </tr>\n",
              "  </thead>\n",
              "  <tbody>\n",
              "    <tr>\n",
              "      <th>2700</th>\n",
              "      <td>1.967777</td>\n",
              "      <td>2.011916</td>\n",
              "      <td>1.995436</td>\n",
              "      <td>2.013337</td>\n",
              "      <td>2.013337</td>\n",
              "    </tr>\n",
              "    <tr>\n",
              "      <th>2701</th>\n",
              "      <td>1.980566</td>\n",
              "      <td>1.986260</td>\n",
              "      <td>1.986221</td>\n",
              "      <td>1.959500</td>\n",
              "      <td>1.959500</td>\n",
              "    </tr>\n",
              "    <tr>\n",
              "      <th>2702</th>\n",
              "      <td>1.903154</td>\n",
              "      <td>1.879430</td>\n",
              "      <td>1.893191</td>\n",
              "      <td>1.883812</td>\n",
              "      <td>1.883812</td>\n",
              "    </tr>\n",
              "    <tr>\n",
              "      <th>2703</th>\n",
              "      <td>1.916039</td>\n",
              "      <td>1.898363</td>\n",
              "      <td>1.914348</td>\n",
              "      <td>1.918606</td>\n",
              "      <td>1.918606</td>\n",
              "    </tr>\n",
              "    <tr>\n",
              "      <th>2704</th>\n",
              "      <td>1.910420</td>\n",
              "      <td>1.916979</td>\n",
              "      <td>1.940238</td>\n",
              "      <td>1.924383</td>\n",
              "      <td>1.924383</td>\n",
              "    </tr>\n",
              "  </tbody>\n",
              "</table>\n",
              "</div>"
            ],
            "text/plain": [
              "          Open      High       Low     Close  Adj Close\n",
              "2700  1.967777  2.011916  1.995436  2.013337   2.013337\n",
              "2701  1.980566  1.986260  1.986221  1.959500   1.959500\n",
              "2702  1.903154  1.879430  1.893191  1.883812   1.883812\n",
              "2703  1.916039  1.898363  1.914348  1.918606   1.918606\n",
              "2704  1.910420  1.916979  1.940238  1.924383   1.924383"
            ]
          },
          "metadata": {
            "tags": []
          },
          "execution_count": 4
        }
      ]
    },
    {
      "cell_type": "markdown",
      "metadata": {
        "id": "gS_s0NGZrA_J"
      },
      "source": [
        "Create the window data which will have 30(60, 90, etc..) days of past and will predict next 7(30, 60, 90, etc..) days of future"
      ]
    },
    {
      "cell_type": "code",
      "metadata": {
        "id": "melbAsy6rVJc"
      },
      "source": [
        "df_new_train = train\n",
        "df_new_test = test\n",
        "\n",
        "def multivar_ts(df, x_step, y_step):\n",
        "  x, y = [], []\n",
        "  \n",
        "  for i in range(len(df)):\n",
        "    end_df = i + x_step\n",
        "    if end_df > len(df) - y_step:    # this step control the shape of array \n",
        "      break\n",
        "    else:\n",
        "      x.append(df[i:end_df, :])\n",
        "      y.append(df[end_df:end_df+y_step, 0])\n",
        "  \n",
        "  return x, y\n",
        "x_train, y_train = multivar_ts(df_new_train.to_numpy(), x_step = 30, y_step = 7)"
      ],
      "execution_count": 5,
      "outputs": []
    },
    {
      "cell_type": "code",
      "metadata": {
        "colab": {
          "base_uri": "https://localhost:8080/"
        },
        "id": "07ASW64VK2kD",
        "outputId": "d03da11e-93fa-48d9-ceeb-af7f158592f9"
      },
      "source": [
        "x_test, y_test = multivar_ts(df_new_test.to_numpy(), x_step = 30, y_step = 7)\n",
        "print(np.array(x_train).shape)\n",
        "print(np.array(y_train).shape)\n",
        "print(np.array(x_test).shape)\n",
        "print(np.array(y_test).shape)"
      ],
      "execution_count": 6,
      "outputs": [
        {
          "output_type": "stream",
          "text": [
            "(2664, 30, 5)\n",
            "(2664, 7)\n",
            "(262, 30, 5)\n",
            "(262, 7)\n"
          ],
          "name": "stdout"
        }
      ]
    },
    {
      "cell_type": "code",
      "metadata": {
        "id": "ce5yJ8KW_04d",
        "colab": {
          "base_uri": "https://localhost:8080/"
        },
        "outputId": "13910525-ad7e-433e-96d8-d126baf7bae5"
      },
      "source": [
        "x_train = np.array(x_train)\n",
        "y_train = np.array(y_train)\n",
        "x_test = np.array(x_test)\n",
        "y_test = np.array(y_test)\n",
        "\n",
        "print(x_train.shape[0])\n",
        "print(x_train.shape[1])\n",
        "print(x_train.shape[2])"
      ],
      "execution_count": 7,
      "outputs": [
        {
          "output_type": "stream",
          "text": [
            "2664\n",
            "30\n",
            "5\n"
          ],
          "name": "stdout"
        }
      ]
    },
    {
      "cell_type": "markdown",
      "metadata": {
        "id": "pSJ79PbfrsxZ"
      },
      "source": [
        "##### Apply 1D Convulution and Two LSTM layers Before passing it into dense layers"
      ]
    },
    {
      "cell_type": "code",
      "metadata": {
        "colab": {
          "base_uri": "https://localhost:8080/"
        },
        "id": "3HJHqhYBsOXW",
        "outputId": "707a92aa-4450-40ea-c893-22f5fdd3368d"
      },
      "source": [
        "x_step = 30\n",
        "\n",
        "model = tf.keras.models.Sequential([\n",
        "  tf.keras.layers.Conv1D(filters=32, kernel_size=2,\n",
        "                      activation=\"relu\", input_shape=(x_step, x_train.shape[2])),\n",
        "  tf.keras.layers.LSTM(32, activation=\"relu\", return_sequences=True),\n",
        "  tf.keras.layers.LSTM(32, activation=\"relu\"),\n",
        "  tf.keras.layers.Dense(32, activation=\"relu\"),\n",
        "  tf.keras.layers.Dense(16, activation=\"relu\"),\n",
        "  tf.keras.layers.Dense(10, activation=\"relu\"),\n",
        "  tf.keras.layers.Dropout(0.2),\n",
        "  tf.keras.layers.Dense(1)\n",
        "])\n",
        "model.summary()"
      ],
      "execution_count": 8,
      "outputs": [
        {
          "output_type": "stream",
          "text": [
            "Model: \"sequential\"\n",
            "_________________________________________________________________\n",
            "Layer (type)                 Output Shape              Param #   \n",
            "=================================================================\n",
            "conv1d (Conv1D)              (None, 29, 32)            352       \n",
            "_________________________________________________________________\n",
            "lstm (LSTM)                  (None, 29, 32)            8320      \n",
            "_________________________________________________________________\n",
            "lstm_1 (LSTM)                (None, 32)                8320      \n",
            "_________________________________________________________________\n",
            "dense (Dense)                (None, 32)                1056      \n",
            "_________________________________________________________________\n",
            "dense_1 (Dense)              (None, 16)                528       \n",
            "_________________________________________________________________\n",
            "dense_2 (Dense)              (None, 10)                170       \n",
            "_________________________________________________________________\n",
            "dropout (Dropout)            (None, 10)                0         \n",
            "_________________________________________________________________\n",
            "dense_3 (Dense)              (None, 1)                 11        \n",
            "=================================================================\n",
            "Total params: 18,757\n",
            "Trainable params: 18,757\n",
            "Non-trainable params: 0\n",
            "_________________________________________________________________\n"
          ],
          "name": "stdout"
        }
      ]
    },
    {
      "cell_type": "code",
      "metadata": {
        "colab": {
          "base_uri": "https://localhost:8080/"
        },
        "id": "q8zfZHxLoXp_",
        "outputId": "89e2433f-195c-4aa7-c967-180b5b460c3b"
      },
      "source": [
        "optimizer = tf.keras.optimizers.SGD(lr=1e-8, momentum=0.9)\n",
        "model.compile(loss=tf.keras.losses.Huber(),\n",
        "              optimizer='adam',\n",
        "              metrics=[\"mae\"])\n",
        "history = model.fit(x_train, y_train, validation_data=(x_test, y_test), epochs=100, batch_size=256, verbose=1)"
      ],
      "execution_count": 9,
      "outputs": [
        {
          "output_type": "stream",
          "text": [
            "Epoch 1/100\n"
          ],
          "name": "stdout"
        },
        {
          "output_type": "stream",
          "text": [
            "/usr/local/lib/python3.7/dist-packages/tensorflow/python/keras/optimizer_v2/optimizer_v2.py:375: UserWarning: The `lr` argument is deprecated, use `learning_rate` instead.\n",
            "  \"The `lr` argument is deprecated, use `learning_rate` instead.\")\n"
          ],
          "name": "stderr"
        },
        {
          "output_type": "stream",
          "text": [
            "11/11 [==============================] - 4s 126ms/step - loss: 0.3500 - mae: 0.6956 - val_loss: 1.8480 - val_mae: 2.3480\n",
            "Epoch 2/100\n",
            "11/11 [==============================] - 1s 66ms/step - loss: 0.2498 - mae: 0.5093 - val_loss: 1.1342 - val_mae: 1.6342\n",
            "Epoch 3/100\n",
            "11/11 [==============================] - 1s 65ms/step - loss: 0.1126 - mae: 0.3264 - val_loss: 0.8736 - val_mae: 1.3536\n",
            "Epoch 4/100\n",
            "11/11 [==============================] - 1s 66ms/step - loss: 0.0689 - mae: 0.2499 - val_loss: 0.7511 - val_mae: 1.1994\n",
            "Epoch 5/100\n",
            "11/11 [==============================] - 1s 64ms/step - loss: 0.0486 - mae: 0.2090 - val_loss: 0.2873 - val_mae: 0.6712\n",
            "Epoch 6/100\n",
            "11/11 [==============================] - 1s 65ms/step - loss: 0.0484 - mae: 0.2084 - val_loss: 0.1469 - val_mae: 0.4752\n",
            "Epoch 7/100\n",
            "11/11 [==============================] - 1s 66ms/step - loss: 0.0429 - mae: 0.1970 - val_loss: 0.2077 - val_mae: 0.5764\n",
            "Epoch 8/100\n",
            "11/11 [==============================] - 1s 66ms/step - loss: 0.0440 - mae: 0.1966 - val_loss: 0.2399 - val_mae: 0.6280\n",
            "Epoch 9/100\n",
            "11/11 [==============================] - 1s 65ms/step - loss: 0.0464 - mae: 0.1991 - val_loss: 0.1349 - val_mae: 0.4727\n",
            "Epoch 10/100\n",
            "11/11 [==============================] - 1s 65ms/step - loss: 0.0473 - mae: 0.2017 - val_loss: 0.1740 - val_mae: 0.5402\n",
            "Epoch 11/100\n",
            "11/11 [==============================] - 1s 66ms/step - loss: 0.0453 - mae: 0.1899 - val_loss: 0.1542 - val_mae: 0.5073\n",
            "Epoch 12/100\n",
            "11/11 [==============================] - 1s 68ms/step - loss: 0.0421 - mae: 0.1924 - val_loss: 0.1357 - val_mae: 0.4711\n",
            "Epoch 13/100\n",
            "11/11 [==============================] - 1s 65ms/step - loss: 0.0393 - mae: 0.1902 - val_loss: 0.1558 - val_mae: 0.5067\n",
            "Epoch 14/100\n",
            "11/11 [==============================] - 1s 65ms/step - loss: 0.0438 - mae: 0.1956 - val_loss: 0.1533 - val_mae: 0.5021\n",
            "Epoch 15/100\n",
            "11/11 [==============================] - 1s 66ms/step - loss: 0.0399 - mae: 0.1830 - val_loss: 0.1468 - val_mae: 0.4763\n",
            "Epoch 16/100\n",
            "11/11 [==============================] - 1s 64ms/step - loss: 0.0462 - mae: 0.1977 - val_loss: 0.1159 - val_mae: 0.4358\n",
            "Epoch 17/100\n",
            "11/11 [==============================] - 1s 64ms/step - loss: 0.0421 - mae: 0.1890 - val_loss: 0.1557 - val_mae: 0.5092\n",
            "Epoch 18/100\n",
            "11/11 [==============================] - 1s 66ms/step - loss: 0.0458 - mae: 0.1920 - val_loss: 0.0974 - val_mae: 0.3906\n",
            "Epoch 19/100\n",
            "11/11 [==============================] - 1s 66ms/step - loss: 0.0454 - mae: 0.1941 - val_loss: 0.0812 - val_mae: 0.3559\n",
            "Epoch 20/100\n",
            "11/11 [==============================] - 1s 64ms/step - loss: 0.0434 - mae: 0.1935 - val_loss: 0.1649 - val_mae: 0.5262\n",
            "Epoch 21/100\n",
            "11/11 [==============================] - 1s 66ms/step - loss: 0.0412 - mae: 0.1910 - val_loss: 0.2938 - val_mae: 0.7221\n",
            "Epoch 22/100\n",
            "11/11 [==============================] - 1s 67ms/step - loss: 0.0476 - mae: 0.2057 - val_loss: 0.2332 - val_mae: 0.6307\n",
            "Epoch 23/100\n",
            "11/11 [==============================] - 1s 66ms/step - loss: 0.0447 - mae: 0.1957 - val_loss: 0.2301 - val_mae: 0.6175\n",
            "Epoch 24/100\n",
            "11/11 [==============================] - 1s 65ms/step - loss: 0.0440 - mae: 0.1889 - val_loss: 0.1695 - val_mae: 0.5043\n",
            "Epoch 25/100\n",
            "11/11 [==============================] - 1s 65ms/step - loss: 0.0445 - mae: 0.1917 - val_loss: 0.1681 - val_mae: 0.5037\n",
            "Epoch 26/100\n",
            "11/11 [==============================] - 1s 67ms/step - loss: 0.0395 - mae: 0.1879 - val_loss: 0.2371 - val_mae: 0.6350\n",
            "Epoch 27/100\n",
            "11/11 [==============================] - 1s 66ms/step - loss: 0.0374 - mae: 0.1835 - val_loss: 0.2611 - val_mae: 0.6683\n",
            "Epoch 28/100\n",
            "11/11 [==============================] - 1s 66ms/step - loss: 0.0427 - mae: 0.1905 - val_loss: 0.1760 - val_mae: 0.5334\n",
            "Epoch 29/100\n",
            "11/11 [==============================] - 1s 68ms/step - loss: 0.0467 - mae: 0.1994 - val_loss: 0.1745 - val_mae: 0.5340\n",
            "Epoch 30/100\n",
            "11/11 [==============================] - 1s 64ms/step - loss: 0.0412 - mae: 0.1858 - val_loss: 0.1397 - val_mae: 0.4749\n",
            "Epoch 31/100\n",
            "11/11 [==============================] - 1s 66ms/step - loss: 0.0389 - mae: 0.1845 - val_loss: 0.1540 - val_mae: 0.5106\n",
            "Epoch 32/100\n",
            "11/11 [==============================] - 1s 66ms/step - loss: 0.0402 - mae: 0.1817 - val_loss: 0.1317 - val_mae: 0.4620\n",
            "Epoch 33/100\n",
            "11/11 [==============================] - 1s 66ms/step - loss: 0.0404 - mae: 0.1890 - val_loss: 0.1858 - val_mae: 0.5617\n",
            "Epoch 34/100\n",
            "11/11 [==============================] - 1s 65ms/step - loss: 0.0443 - mae: 0.1918 - val_loss: 0.1662 - val_mae: 0.5237\n",
            "Epoch 35/100\n",
            "11/11 [==============================] - 1s 65ms/step - loss: 0.0398 - mae: 0.1855 - val_loss: 0.1574 - val_mae: 0.5048\n",
            "Epoch 36/100\n",
            "11/11 [==============================] - 1s 68ms/step - loss: 0.0430 - mae: 0.1956 - val_loss: 0.1733 - val_mae: 0.5278\n",
            "Epoch 37/100\n",
            "11/11 [==============================] - 1s 67ms/step - loss: 0.0394 - mae: 0.1835 - val_loss: 0.1596 - val_mae: 0.5086\n",
            "Epoch 38/100\n",
            "11/11 [==============================] - 1s 67ms/step - loss: 0.0451 - mae: 0.1927 - val_loss: 0.1802 - val_mae: 0.5406\n",
            "Epoch 39/100\n",
            "11/11 [==============================] - 1s 67ms/step - loss: 0.0393 - mae: 0.1862 - val_loss: 0.1194 - val_mae: 0.4358\n",
            "Epoch 40/100\n",
            "11/11 [==============================] - 1s 68ms/step - loss: 0.0417 - mae: 0.1864 - val_loss: 0.1385 - val_mae: 0.4774\n",
            "Epoch 41/100\n",
            "11/11 [==============================] - 1s 65ms/step - loss: 0.0411 - mae: 0.1896 - val_loss: 0.1722 - val_mae: 0.5339\n",
            "Epoch 42/100\n",
            "11/11 [==============================] - 1s 67ms/step - loss: 0.0418 - mae: 0.1892 - val_loss: 0.1504 - val_mae: 0.4952\n",
            "Epoch 43/100\n",
            "11/11 [==============================] - 1s 67ms/step - loss: 0.0390 - mae: 0.1882 - val_loss: 0.1408 - val_mae: 0.4845\n",
            "Epoch 44/100\n",
            "11/11 [==============================] - 1s 68ms/step - loss: 0.0404 - mae: 0.1856 - val_loss: 0.1149 - val_mae: 0.4312\n",
            "Epoch 45/100\n",
            "11/11 [==============================] - 1s 67ms/step - loss: 0.0402 - mae: 0.1888 - val_loss: 0.1058 - val_mae: 0.4158\n",
            "Epoch 46/100\n",
            "11/11 [==============================] - 1s 67ms/step - loss: 0.0443 - mae: 0.1906 - val_loss: 0.0540 - val_mae: 0.2746\n",
            "Epoch 47/100\n",
            "11/11 [==============================] - 1s 67ms/step - loss: 0.0426 - mae: 0.1917 - val_loss: 0.0697 - val_mae: 0.3129\n",
            "Epoch 48/100\n",
            "11/11 [==============================] - 1s 72ms/step - loss: 0.0416 - mae: 0.1871 - val_loss: 0.1356 - val_mae: 0.4709\n",
            "Epoch 49/100\n",
            "11/11 [==============================] - 1s 69ms/step - loss: 0.0393 - mae: 0.1879 - val_loss: 0.1662 - val_mae: 0.5336\n",
            "Epoch 50/100\n",
            "11/11 [==============================] - 1s 66ms/step - loss: 0.0429 - mae: 0.1941 - val_loss: 0.1412 - val_mae: 0.4894\n",
            "Epoch 51/100\n",
            "11/11 [==============================] - 1s 68ms/step - loss: 0.0445 - mae: 0.1958 - val_loss: 0.1105 - val_mae: 0.4259\n",
            "Epoch 52/100\n",
            "11/11 [==============================] - 1s 65ms/step - loss: 0.0404 - mae: 0.1914 - val_loss: 0.1285 - val_mae: 0.4632\n",
            "Epoch 53/100\n",
            "11/11 [==============================] - 1s 65ms/step - loss: 0.0435 - mae: 0.1900 - val_loss: 0.0825 - val_mae: 0.3566\n",
            "Epoch 54/100\n",
            "11/11 [==============================] - 1s 69ms/step - loss: 0.0443 - mae: 0.1961 - val_loss: 0.1255 - val_mae: 0.4431\n",
            "Epoch 55/100\n",
            "11/11 [==============================] - 1s 68ms/step - loss: 0.0390 - mae: 0.1858 - val_loss: 0.1508 - val_mae: 0.4884\n",
            "Epoch 56/100\n",
            "11/11 [==============================] - 1s 67ms/step - loss: 0.0405 - mae: 0.1878 - val_loss: 0.1281 - val_mae: 0.4491\n",
            "Epoch 57/100\n",
            "11/11 [==============================] - 1s 70ms/step - loss: 0.0383 - mae: 0.1848 - val_loss: 0.1131 - val_mae: 0.4269\n",
            "Epoch 58/100\n",
            "11/11 [==============================] - 1s 72ms/step - loss: 0.0405 - mae: 0.1893 - val_loss: 0.1273 - val_mae: 0.4594\n",
            "Epoch 59/100\n",
            "11/11 [==============================] - 1s 66ms/step - loss: 0.0388 - mae: 0.1898 - val_loss: 0.1484 - val_mae: 0.5028\n",
            "Epoch 60/100\n",
            "11/11 [==============================] - 1s 68ms/step - loss: 0.0428 - mae: 0.1886 - val_loss: 0.1035 - val_mae: 0.4154\n",
            "Epoch 61/100\n",
            "11/11 [==============================] - 1s 66ms/step - loss: 0.0372 - mae: 0.1801 - val_loss: 0.1188 - val_mae: 0.4484\n",
            "Epoch 62/100\n",
            "11/11 [==============================] - 1s 69ms/step - loss: 0.0398 - mae: 0.1862 - val_loss: 0.1610 - val_mae: 0.5282\n",
            "Epoch 63/100\n",
            "11/11 [==============================] - 1s 66ms/step - loss: 0.0426 - mae: 0.1915 - val_loss: 0.0875 - val_mae: 0.3688\n",
            "Epoch 64/100\n",
            "11/11 [==============================] - 1s 70ms/step - loss: 0.0414 - mae: 0.1872 - val_loss: 0.0981 - val_mae: 0.3925\n",
            "Epoch 65/100\n",
            "11/11 [==============================] - 1s 67ms/step - loss: 0.0390 - mae: 0.1852 - val_loss: 0.1181 - val_mae: 0.4381\n",
            "Epoch 66/100\n",
            "11/11 [==============================] - 1s 71ms/step - loss: 0.0405 - mae: 0.1920 - val_loss: 0.1202 - val_mae: 0.4426\n",
            "Epoch 67/100\n",
            "11/11 [==============================] - 1s 69ms/step - loss: 0.0433 - mae: 0.1932 - val_loss: 0.1313 - val_mae: 0.4570\n",
            "Epoch 68/100\n",
            "11/11 [==============================] - 1s 69ms/step - loss: 0.0400 - mae: 0.1884 - val_loss: 0.1343 - val_mae: 0.4691\n",
            "Epoch 69/100\n",
            "11/11 [==============================] - 1s 67ms/step - loss: 0.0453 - mae: 0.1965 - val_loss: 0.1060 - val_mae: 0.4243\n",
            "Epoch 70/100\n",
            "11/11 [==============================] - 1s 67ms/step - loss: 0.0424 - mae: 0.1985 - val_loss: 0.1096 - val_mae: 0.4314\n",
            "Epoch 71/100\n",
            "11/11 [==============================] - 1s 66ms/step - loss: 0.0413 - mae: 0.1944 - val_loss: 0.1002 - val_mae: 0.4023\n",
            "Epoch 72/100\n",
            "11/11 [==============================] - 1s 68ms/step - loss: 0.0421 - mae: 0.1885 - val_loss: 0.1575 - val_mae: 0.5163\n",
            "Epoch 73/100\n",
            "11/11 [==============================] - 1s 67ms/step - loss: 0.0425 - mae: 0.1947 - val_loss: 0.1420 - val_mae: 0.4883\n",
            "Epoch 74/100\n",
            "11/11 [==============================] - 1s 68ms/step - loss: 0.0440 - mae: 0.1939 - val_loss: 0.1051 - val_mae: 0.4138\n",
            "Epoch 75/100\n",
            "11/11 [==============================] - 1s 68ms/step - loss: 0.0452 - mae: 0.1988 - val_loss: 0.1316 - val_mae: 0.4673\n",
            "Epoch 76/100\n",
            "11/11 [==============================] - 1s 68ms/step - loss: 0.0411 - mae: 0.1882 - val_loss: 0.1320 - val_mae: 0.4663\n",
            "Epoch 77/100\n",
            "11/11 [==============================] - 1s 70ms/step - loss: 0.0415 - mae: 0.1897 - val_loss: 0.1249 - val_mae: 0.4566\n",
            "Epoch 78/100\n",
            "11/11 [==============================] - 1s 68ms/step - loss: 0.0379 - mae: 0.1823 - val_loss: 0.1114 - val_mae: 0.4215\n",
            "Epoch 79/100\n",
            "11/11 [==============================] - 1s 67ms/step - loss: 0.0397 - mae: 0.1884 - val_loss: 0.1075 - val_mae: 0.4137\n",
            "Epoch 80/100\n",
            "11/11 [==============================] - 1s 67ms/step - loss: 0.0430 - mae: 0.1918 - val_loss: 0.0999 - val_mae: 0.3928\n",
            "Epoch 81/100\n",
            "11/11 [==============================] - 1s 68ms/step - loss: 0.0387 - mae: 0.1876 - val_loss: 0.1445 - val_mae: 0.4889\n",
            "Epoch 82/100\n",
            "11/11 [==============================] - 1s 67ms/step - loss: 0.0378 - mae: 0.1869 - val_loss: 0.1524 - val_mae: 0.5031\n",
            "Epoch 83/100\n",
            "11/11 [==============================] - 1s 67ms/step - loss: 0.0428 - mae: 0.1971 - val_loss: 0.1341 - val_mae: 0.4740\n",
            "Epoch 84/100\n",
            "11/11 [==============================] - 1s 69ms/step - loss: 0.0405 - mae: 0.1961 - val_loss: 0.1558 - val_mae: 0.5146\n",
            "Epoch 85/100\n",
            "11/11 [==============================] - 1s 68ms/step - loss: 0.0398 - mae: 0.1928 - val_loss: 0.1403 - val_mae: 0.4810\n",
            "Epoch 86/100\n",
            "11/11 [==============================] - 1s 73ms/step - loss: 0.0393 - mae: 0.1877 - val_loss: 0.1557 - val_mae: 0.5085\n",
            "Epoch 87/100\n",
            "11/11 [==============================] - 1s 71ms/step - loss: 0.0416 - mae: 0.1916 - val_loss: 0.1356 - val_mae: 0.4740\n",
            "Epoch 88/100\n",
            "11/11 [==============================] - 1s 68ms/step - loss: 0.0378 - mae: 0.1877 - val_loss: 0.1296 - val_mae: 0.4653\n",
            "Epoch 89/100\n",
            "11/11 [==============================] - 1s 68ms/step - loss: 0.0407 - mae: 0.1943 - val_loss: 0.0626 - val_mae: 0.3074\n",
            "Epoch 90/100\n",
            "11/11 [==============================] - 1s 68ms/step - loss: 0.0425 - mae: 0.2006 - val_loss: 0.0965 - val_mae: 0.4003\n",
            "Epoch 91/100\n",
            "11/11 [==============================] - 1s 68ms/step - loss: 0.0373 - mae: 0.1839 - val_loss: 0.1284 - val_mae: 0.4577\n",
            "Epoch 92/100\n",
            "11/11 [==============================] - 1s 66ms/step - loss: 0.0372 - mae: 0.1859 - val_loss: 0.1255 - val_mae: 0.4512\n",
            "Epoch 93/100\n",
            "11/11 [==============================] - 1s 69ms/step - loss: 0.0399 - mae: 0.1897 - val_loss: 0.1124 - val_mae: 0.4311\n",
            "Epoch 94/100\n",
            "11/11 [==============================] - 1s 68ms/step - loss: 0.0428 - mae: 0.1954 - val_loss: 0.1015 - val_mae: 0.4078\n",
            "Epoch 95/100\n",
            "11/11 [==============================] - 1s 67ms/step - loss: 0.0414 - mae: 0.1931 - val_loss: 0.0913 - val_mae: 0.3835\n",
            "Epoch 96/100\n",
            "11/11 [==============================] - 1s 68ms/step - loss: 0.0430 - mae: 0.1923 - val_loss: 0.0879 - val_mae: 0.3719\n",
            "Epoch 97/100\n",
            "11/11 [==============================] - 1s 69ms/step - loss: 0.0414 - mae: 0.1934 - val_loss: 0.0756 - val_mae: 0.3467\n",
            "Epoch 98/100\n",
            "11/11 [==============================] - 1s 67ms/step - loss: 0.0408 - mae: 0.1871 - val_loss: 0.0567 - val_mae: 0.2928\n",
            "Epoch 99/100\n",
            "11/11 [==============================] - 1s 67ms/step - loss: 0.0409 - mae: 0.1961 - val_loss: 0.0774 - val_mae: 0.3554\n",
            "Epoch 100/100\n",
            "11/11 [==============================] - 1s 68ms/step - loss: 0.0418 - mae: 0.1959 - val_loss: 0.0931 - val_mae: 0.3907\n"
          ],
          "name": "stdout"
        }
      ]
    },
    {
      "cell_type": "code",
      "metadata": {
        "id": "ARCcVeDD_VS_",
        "colab": {
          "base_uri": "https://localhost:8080/"
        },
        "outputId": "1fe982be-a8c6-4cf9-c31e-8422d04499c0"
      },
      "source": [
        "acc_tr = model.evaluate(x_train, y_train)\n",
        "acc_te = model.evaluate(x_test, y_test)\n",
        "print(acc_tr, acc_te)"
      ],
      "execution_count": 10,
      "outputs": [
        {
          "output_type": "stream",
          "text": [
            "84/84 [==============================] - 1s 7ms/step - loss: 0.0043 - mae: 0.0611\n",
            "9/9 [==============================] - 0s 7ms/step - loss: 0.0931 - mae: 0.3907\n",
            "[0.004276640247553587, 0.06105867400765419] [0.09308377653360367, 0.39067521691322327]\n"
          ],
          "name": "stdout"
        }
      ]
    },
    {
      "cell_type": "code",
      "metadata": {
        "id": "AvOfF0dt_VWU",
        "colab": {
          "base_uri": "https://localhost:8080/",
          "height": 264
        },
        "outputId": "f52668df-184d-49c9-e478-d61fed914079"
      },
      "source": [
        "# plot training history\n",
        "plt.plot(history.history['loss'], label='train')\n",
        "plt.plot(history.history['val_loss'], label='test')\n",
        "plt.legend()\n",
        "plt.show()"
      ],
      "execution_count": 11,
      "outputs": [
        {
          "output_type": "display_data",
          "data": {
            "image/png": "[encoded data removed]",
            "text/plain": [
              "<Figure size 432x288 with 1 Axes>"
            ]
          },
          "metadata": {
            "tags": [],
            "needs_background": "light"
          }
        }
      ]
    },
    {
      "cell_type": "code",
      "metadata": {
        "colab": {
          "base_uri": "https://localhost:8080/"
        },
        "id": "U36g_S4ftMiv",
        "outputId": "4ca5baa1-5170-4b8e-ba27-2d3945ebcf7e"
      },
      "source": [
        "es = tf.keras.callbacks.EarlyStopping(monitor='val_loss', mode='min', patience=10)\n",
        "history = model.fit(x_train, y_train, validation_data=(x_test, y_test), epochs=100, batch_size=256, verbose=1, callbacks=[es])"
      ],
      "execution_count": 12,
      "outputs": [
        {
          "output_type": "stream",
          "text": [
            "Epoch 1/100\n",
            "11/11 [==============================] - 1s 71ms/step - loss: 0.0370 - mae: 0.1831 - val_loss: 0.0751 - val_mae: 0.3455\n",
            "Epoch 2/100\n",
            "11/11 [==============================] - 1s 67ms/step - loss: 0.0395 - mae: 0.1896 - val_loss: 0.1071 - val_mae: 0.4222\n",
            "Epoch 3/100\n",
            "11/11 [==============================] - 1s 66ms/step - loss: 0.0395 - mae: 0.1925 - val_loss: 0.1249 - val_mae: 0.4607\n",
            "Epoch 4/100\n",
            "11/11 [==============================] - 1s 67ms/step - loss: 0.0374 - mae: 0.1820 - val_loss: 0.1402 - val_mae: 0.4874\n",
            "Epoch 5/100\n",
            "11/11 [==============================] - 1s 66ms/step - loss: 0.0411 - mae: 0.1972 - val_loss: 0.1093 - val_mae: 0.4297\n",
            "Epoch 6/100\n",
            "11/11 [==============================] - 1s 68ms/step - loss: 0.0390 - mae: 0.1873 - val_loss: 0.1083 - val_mae: 0.4253\n",
            "Epoch 7/100\n",
            "11/11 [==============================] - 1s 66ms/step - loss: 0.0387 - mae: 0.1881 - val_loss: 0.1005 - val_mae: 0.4114\n",
            "Epoch 8/100\n",
            "11/11 [==============================] - 1s 75ms/step - loss: 0.0392 - mae: 0.1910 - val_loss: 0.1034 - val_mae: 0.4185\n",
            "Epoch 9/100\n",
            "11/11 [==============================] - 1s 73ms/step - loss: 0.0419 - mae: 0.1935 - val_loss: 0.0877 - val_mae: 0.3696\n",
            "Epoch 10/100\n",
            "11/11 [==============================] - 1s 68ms/step - loss: 0.0389 - mae: 0.1844 - val_loss: 0.0915 - val_mae: 0.3824\n",
            "Epoch 11/100\n",
            "11/11 [==============================] - 1s 67ms/step - loss: 0.0373 - mae: 0.1863 - val_loss: 0.0742 - val_mae: 0.3369\n",
            "Epoch 12/100\n",
            "11/11 [==============================] - 1s 66ms/step - loss: 0.0408 - mae: 0.1939 - val_loss: 0.1097 - val_mae: 0.4165\n",
            "Epoch 13/100\n",
            "11/11 [==============================] - 1s 66ms/step - loss: 0.0387 - mae: 0.1886 - val_loss: 0.1138 - val_mae: 0.4302\n",
            "Epoch 14/100\n",
            "11/11 [==============================] - 1s 68ms/step - loss: 0.0390 - mae: 0.1904 - val_loss: 0.0720 - val_mae: 0.3312\n",
            "Epoch 15/100\n",
            "11/11 [==============================] - 1s 68ms/step - loss: 0.0413 - mae: 0.1957 - val_loss: 0.0912 - val_mae: 0.3838\n",
            "Epoch 16/100\n",
            "11/11 [==============================] - 1s 68ms/step - loss: 0.0387 - mae: 0.1917 - val_loss: 0.1216 - val_mae: 0.4494\n",
            "Epoch 17/100\n",
            "11/11 [==============================] - 1s 69ms/step - loss: 0.0422 - mae: 0.1948 - val_loss: 0.0916 - val_mae: 0.3839\n",
            "Epoch 18/100\n",
            "11/11 [==============================] - 1s 70ms/step - loss: 0.0385 - mae: 0.1898 - val_loss: 0.0733 - val_mae: 0.3460\n",
            "Epoch 19/100\n",
            "11/11 [==============================] - 1s 67ms/step - loss: 0.0424 - mae: 0.2000 - val_loss: 0.1097 - val_mae: 0.4351\n",
            "Epoch 20/100\n",
            "11/11 [==============================] - 1s 67ms/step - loss: 0.0416 - mae: 0.1935 - val_loss: 0.1258 - val_mae: 0.4639\n",
            "Epoch 21/100\n",
            "11/11 [==============================] - 1s 75ms/step - loss: 0.0419 - mae: 0.1977 - val_loss: 0.0786 - val_mae: 0.3606\n",
            "Epoch 22/100\n",
            "11/11 [==============================] - 1s 75ms/step - loss: 0.0428 - mae: 0.1984 - val_loss: 0.0778 - val_mae: 0.3625\n",
            "Epoch 23/100\n",
            "11/11 [==============================] - 1s 74ms/step - loss: 0.0407 - mae: 0.1934 - val_loss: 0.0813 - val_mae: 0.3621\n",
            "Epoch 24/100\n",
            "11/11 [==============================] - 1s 68ms/step - loss: 0.0416 - mae: 0.1930 - val_loss: 0.1114 - val_mae: 0.4354\n"
          ],
          "name": "stdout"
        }
      ]
    },
    {
      "cell_type": "code",
      "metadata": {
        "colab": {
          "base_uri": "https://localhost:8080/"
        },
        "id": "xGMc0IwYtMlW",
        "outputId": "cff52695-e2ec-4feb-a39c-9c73d921a349"
      },
      "source": [
        "acc_tr = model.evaluate(x_train, y_train)\n",
        "acc_te = model.evaluate(x_test, y_test)\n",
        "print(acc_tr, acc_te)"
      ],
      "execution_count": 13,
      "outputs": [
        {
          "output_type": "stream",
          "text": [
            "84/84 [==============================] - 1s 7ms/step - loss: 0.0059 - mae: 0.0709\n",
            "9/9 [==============================] - 0s 7ms/step - loss: 0.1114 - mae: 0.4354\n",
            "[0.005906988866627216, 0.07090221345424652] [0.11135175824165344, 0.4353775978088379]\n"
          ],
          "name": "stdout"
        }
      ]
    },
    {
      "cell_type": "code",
      "metadata": {
        "colab": {
          "base_uri": "https://localhost:8080/",
          "height": 264
        },
        "id": "ucREJwoetMoa",
        "outputId": "dd69a646-21a8-4fb3-932e-703a182db366"
      },
      "source": [
        "# plot training history\n",
        "plt.plot(history.history['loss'], label='train')\n",
        "plt.plot(history.history['val_loss'], label='test')\n",
        "plt.legend()\n",
        "plt.show()"
      ],
      "execution_count": 14,
      "outputs": [
        {
          "output_type": "display_data",
          "data": {
            "image/png": "[encoded data removed]",
            "text/plain": [
              "<Figure size 432x288 with 1 Axes>"
            ]
          },
          "metadata": {
            "tags": [],
            "needs_background": "light"
          }
        }
      ]
    },
    {
      "cell_type": "code",
      "metadata": {
        "colab": {
          "base_uri": "https://localhost:8080/"
        },
        "id": "nWeyFDA18_U4",
        "outputId": "3fa0a90b-97df-42ea-eb12-3717a6693780"
      },
      "source": [
        "train_pred = model.predict(x_train)\n",
        "train_pred.shape"
      ],
      "execution_count": 15,
      "outputs": [
        {
          "output_type": "execute_result",
          "data": {
            "text/plain": [
              "(2664, 1)"
            ]
          },
          "metadata": {
            "tags": []
          },
          "execution_count": 15
        }
      ]
    },
    {
      "cell_type": "code",
      "metadata": {
        "colab": {
          "base_uri": "https://localhost:8080/"
        },
        "id": "lxWjIbISJvTF",
        "outputId": "3064ed16-dc9f-4c5e-8cd1-babcafd5ac1a"
      },
      "source": [
        "z = np.zeros(36)\n",
        "z_new = np.append(z, train_pred)\n",
        "z_new.shape"
      ],
      "execution_count": 16,
      "outputs": [
        {
          "output_type": "execute_result",
          "data": {
            "text/plain": [
              "(2700,)"
            ]
          },
          "metadata": {
            "tags": []
          },
          "execution_count": 16
        }
      ]
    },
    {
      "cell_type": "markdown",
      "metadata": {
        "id": "C0qYTE5gsHmz"
      },
      "source": [
        "####Apply prediction on Train data - Initial values are zero because these are the starting points of data and same goes with test data as well\n"
      ]
    },
    {
      "cell_type": "code",
      "metadata": {
        "colab": {
          "base_uri": "https://localhost:8080/",
          "height": 268
        },
        "id": "OU5n8Oo3GNts",
        "outputId": "0d673316-8766-4da7-ff26-c563213a0d2a"
      },
      "source": [
        "plt.figure(figsize=(15, 4))\n",
        "plt.plot(df_new_train['Open'], label='train')\n",
        "plt.plot(z_new, label='train_pred')\n",
        "plt.legend()\n",
        "plt.show()"
      ],
      "execution_count": 17,
      "outputs": [
        {
          "output_type": "display_data",
          "data": {
            "image/png": "[encoded data removed]",
            "text/plain": [
              "<Figure size 1080x288 with 1 Axes>"
            ]
          },
          "metadata": {
            "tags": [],
            "needs_background": "light"
          }
        }
      ]
    },
    {
      "cell_type": "code",
      "metadata": {
        "colab": {
          "base_uri": "https://localhost:8080/"
        },
        "id": "Lcgv06EiHL2-",
        "outputId": "e99ee30b-66d4-4ec6-b79c-cd2ef1c55f50"
      },
      "source": [
        "test_pred = model.predict(x_test)\n",
        "test_pred.shape"
      ],
      "execution_count": 18,
      "outputs": [
        {
          "output_type": "execute_result",
          "data": {
            "text/plain": [
              "(262, 1)"
            ]
          },
          "metadata": {
            "tags": []
          },
          "execution_count": 18
        }
      ]
    },
    {
      "cell_type": "code",
      "metadata": {
        "colab": {
          "base_uri": "https://localhost:8080/"
        },
        "id": "mIjQvDTxH04Z",
        "outputId": "54688697-18cd-40d0-9671-8602410382fd"
      },
      "source": [
        "#498-462\n",
        "z = np.zeros(36)\n",
        "z_new_test = np.append(z, test_pred)\n",
        "z_new_test.shape"
      ],
      "execution_count": 19,
      "outputs": [
        {
          "output_type": "execute_result",
          "data": {
            "text/plain": [
              "(298,)"
            ]
          },
          "metadata": {
            "tags": []
          },
          "execution_count": 19
        }
      ]
    },
    {
      "cell_type": "code",
      "metadata": {
        "colab": {
          "base_uri": "https://localhost:8080/",
          "height": 264
        },
        "id": "xRNHrwBUG1ui",
        "outputId": "283e3d05-18a9-4de4-b606-18766200e621"
      },
      "source": [
        "plt.figure(figsize=(15, 4))\n",
        "plt.plot(df_new_test['Open'].tolist(), label='test')\n",
        "plt.plot(z_new_test, label='test_pred')\n",
        "plt.legend()\n",
        "plt.show()"
      ],
      "execution_count": 20,
      "outputs": [
        {
          "output_type": "display_data",
          "data": {
            "image/png": "[encoded data removed]",
            "text/plain": [
              "<Figure size 1080x288 with 1 Axes>"
            ]
          },
          "metadata": {
            "tags": [],
            "needs_background": "light"
          }
        }
      ]
    }
  ]
}