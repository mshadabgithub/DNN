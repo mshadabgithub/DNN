{
 "cells": [
  {
   "cell_type": "code",
   "execution_count": 1,
   "metadata": {
    "_cell_guid": "b1076dfc-b9ad-4769-8c92-a6c4dae69d19",
    "_uuid": "8f2839f25d086af736a60e9eeb907d3b93b6e0e5"
   },
   "outputs": [
    {
     "name": "stdout",
     "output_type": "stream",
     "text": [
      "/kaggle/input/customer-churn/train_v2/train_v2.csv\n",
      "/kaggle/input/customer-churn/user_logs_v2/user_logs_v2.csv\n",
      "/kaggle/input/customer-churn/members_v3/members_v3.csv\n",
      "/kaggle/input/customer-churn/transactions_v2/transactions_v2.csv\n"
     ]
    }
   ],
   "source": [
    "# This Python 3 environment comes with many helpful analytics libraries installed\n",
    "# It is defined by the kaggle/python Docker image: https://github.com/kaggle/docker-python\n",
    "# For example, here's several helpful packages to load\n",
    "\n",
    "import numpy as np # linear algebra\n",
    "import pandas as pd # data processing, CSV file I/O (e.g. pd.read_csv)\n",
    "\n",
    "# Input data files are available in the read-only \"../input/\" directory\n",
    "# For example, running this (by clicking run or pressing Shift+Enter) will list all files under the input directory\n",
    "\n",
    "import os\n",
    "for dirname, _, filenames in os.walk('/kaggle/input'):\n",
    "    for filename in filenames:\n",
    "        print(os.path.join(dirname, filename))\n",
    "\n",
    "# You can write up to 5GB to the current directory (/kaggle/working/) that gets preserved as output when you create a version using \"Save & Run All\" \n",
    "# You can also write temporary files to /kaggle/temp/, but they won't be saved outside of the current session"
   ]
  },
  {
   "cell_type": "code",
   "execution_count": 2,
   "metadata": {
    "_cell_guid": "79c7e3d0-c299-4dcb-8224-4455121ee9b0",
    "_uuid": "d629ff2d2480ee46fbb7e2d37f6b5fab8052498a"
   },
   "outputs": [],
   "source": [
    "import pandas as pd\n",
    "import numpy as np\n",
    "from sklearn import preprocessing\n",
    "import matplotlib.pyplot as plt\n",
    "import os\n",
    "import scipy\n",
    "from scipy.stats.mstats import mode\n",
    "import pickle\n",
    "import featuretools as ft\n",
    "import warnings\n",
    "warnings.filterwarnings('ignore')\n",
    "import gc"
   ]
  },
  {
   "cell_type": "code",
   "execution_count": 3,
   "metadata": {},
   "outputs": [],
   "source": [
    "members1 = pd.read_csv('/kaggle/input/customer-churn/members_v3/members_v3.csv')  # unique customers on msno, no duplicates here\n",
    "train_v21 = pd.read_csv('/kaggle/input/customer-churn/train_v2/train_v2.csv')  # Again unique on msno, no duplicated here\n",
    "transactions1 = pd.read_csv('/kaggle/input/customer-churn/transactions_v2/transactions_v2.csv') # No unique id, even msno is duplicate \n",
    "user_logs1 = pd.read_csv('/kaggle/input/customer-churn/user_logs_v2/user_logs_v2.csv') # No unique id, even msno is duplicate"
   ]
  },
  {
   "cell_type": "code",
   "execution_count": 4,
   "metadata": {},
   "outputs": [],
   "source": [
    "# consider only 50% of the sample from each datasets given ram capacity 16GB\n",
    "members = members1.sample(frac = 0.5)\n",
    "train_v2 = train_v21.sample(frac = 0.5)\n",
    "transactions = transactions1.sample(frac = 0.5)\n",
    "user_logs = user_logs1.sample(frac = 0.5)"
   ]
  },
  {
   "cell_type": "code",
   "execution_count": 5,
   "metadata": {},
   "outputs": [],
   "source": [
    "del members1, train_v21, transactions1, user_logs1"
   ]
  },
  {
   "cell_type": "code",
   "execution_count": 6,
   "metadata": {},
   "outputs": [
    {
     "name": "stdout",
     "output_type": "stream",
     "text": [
      "count of common msno : 94713\n",
      "common msno : (94713, 2)\n"
     ]
    }
   ],
   "source": [
    "# get the list of common msno across all tables\n",
    "s1 = (set(train_v2.msno) & set(members.msno) & set(transactions.msno) & set(user_logs.msno))\n",
    "l1 = list(s1)\n",
    "print('count of common msno :', len(l1))\n",
    "\n",
    "# create a dataframe and left join with train_v2 (having unique msno and target)\n",
    "com_data = pd.DataFrame(l1, columns = ['msno'])\n",
    "master_data = com_data.merge(train_v2, on = 'msno', how = 'left')\n",
    "print('common msno :', master_data.shape)\n"
   ]
  },
  {
   "cell_type": "code",
   "execution_count": 7,
   "metadata": {},
   "outputs": [
    {
     "data": {
      "text/plain": [
       "(1018202, 23)"
      ]
     },
     "execution_count": 7,
     "metadata": {},
     "output_type": "execute_result"
    }
   ],
   "source": [
    "train_mem = pd.merge(master_data, transactions, on = 'msno', how = 'left')\n",
    "train_mem_txn = pd.merge(train_mem, members, on = 'msno', how = 'left')\n",
    "train_mem_txn_user_log1 = pd.merge(train_mem_txn, user_logs, on = 'msno', how = 'left')\n",
    "train_mem_txn_user_log1.shape"
   ]
  },
  {
   "cell_type": "code",
   "execution_count": 8,
   "metadata": {},
   "outputs": [
    {
     "data": {
      "text/html": [
       "<div>\n",
       "<style scoped>\n",
       "    .dataframe tbody tr th:only-of-type {\n",
       "        vertical-align: middle;\n",
       "    }\n",
       "\n",
       "    .dataframe tbody tr th {\n",
       "        vertical-align: top;\n",
       "    }\n",
       "\n",
       "    .dataframe thead th {\n",
       "        text-align: right;\n",
       "    }\n",
       "</style>\n",
       "<table border=\"1\" class=\"dataframe\">\n",
       "  <thead>\n",
       "    <tr style=\"text-align: right;\">\n",
       "      <th></th>\n",
       "      <th>msno</th>\n",
       "    </tr>\n",
       "  </thead>\n",
       "  <tbody>\n",
       "    <tr>\n",
       "      <th>aP/PsAIVAhPLMwkMwxNsi1bJFMg1vdGWFNc/z8Tkomw=</th>\n",
       "      <td>361</td>\n",
       "    </tr>\n",
       "    <tr>\n",
       "      <th>CP+iV346CbsrCdG1BWt2r0t0jJpS5Ns9AhPukIoNWTc=</th>\n",
       "      <td>361</td>\n",
       "    </tr>\n",
       "    <tr>\n",
       "      <th>GUlOynwcbchLoK1DjZ9pMqC3HiK1BOGDV3g4xuUeNA0=</th>\n",
       "      <td>360</td>\n",
       "    </tr>\n",
       "    <tr>\n",
       "      <th>o5aFK3grQrjlHACDVvS0cPa1KvLq9x9KeTM/L2SgLz0=</th>\n",
       "      <td>324</td>\n",
       "    </tr>\n",
       "    <tr>\n",
       "      <th>Y0a/7FB6Irar2JM3i8qQPmgCYonQrLglc0W//BlQgGM=</th>\n",
       "      <td>324</td>\n",
       "    </tr>\n",
       "  </tbody>\n",
       "</table>\n",
       "</div>"
      ],
      "text/plain": [
       "                                              msno\n",
       "aP/PsAIVAhPLMwkMwxNsi1bJFMg1vdGWFNc/z8Tkomw=   361\n",
       "CP+iV346CbsrCdG1BWt2r0t0jJpS5Ns9AhPukIoNWTc=   361\n",
       "GUlOynwcbchLoK1DjZ9pMqC3HiK1BOGDV3g4xuUeNA0=   360\n",
       "o5aFK3grQrjlHACDVvS0cPa1KvLq9x9KeTM/L2SgLz0=   324\n",
       "Y0a/7FB6Irar2JM3i8qQPmgCYonQrLglc0W//BlQgGM=   324"
      ]
     },
     "execution_count": 8,
     "metadata": {},
     "output_type": "execute_result"
    }
   ],
   "source": [
    "t1 = pd.DataFrame(train_mem_txn_user_log1.msno.value_counts(dropna=False), columns=['msno'])\n",
    "t1.reindex()\n",
    "t1.head()"
   ]
  },
  {
   "cell_type": "code",
   "execution_count": 9,
   "metadata": {},
   "outputs": [],
   "source": [
    "num = ['bd', 'num_25', 'num_50', 'num_75', 'num_985', 'num_100', 'num_unq', 'total_secs', 'actual_amount_paid']\n",
    "cat = ['city', 'gender', 'registered_via', 'payment_method_id', 'payment_plan_days', 'plan_list_price', 'is_auto_renew', 'is_cancel']\n",
    "date1 = ['registration_init_time', 'transaction_date', 'membership_expire_date', 'date']\n",
    "\n",
    "# drop all date variables for now\n",
    "train_mem_txn_user_log1.drop(date1, axis=1, inplace=True)\n",
    "\n",
    "# replace numeric NaN with median values of num columns\n",
    "for var in num:\n",
    "    train_mem_txn_user_log1.loc[:, var].fillna(train_mem_txn_user_log1.loc[:, var].median(), inplace = True)"
   ]
  },
  {
   "cell_type": "code",
   "execution_count": 10,
   "metadata": {},
   "outputs": [
    {
     "data": {
      "text/html": [
       "<div>\n",
       "<style scoped>\n",
       "    .dataframe tbody tr th:only-of-type {\n",
       "        vertical-align: middle;\n",
       "    }\n",
       "\n",
       "    .dataframe tbody tr th {\n",
       "        vertical-align: top;\n",
       "    }\n",
       "\n",
       "    .dataframe thead th {\n",
       "        text-align: right;\n",
       "    }\n",
       "</style>\n",
       "<table border=\"1\" class=\"dataframe\">\n",
       "  <thead>\n",
       "    <tr style=\"text-align: right;\">\n",
       "      <th></th>\n",
       "      <th>city</th>\n",
       "      <th>gender</th>\n",
       "      <th>registered_via</th>\n",
       "      <th>payment_method_id</th>\n",
       "      <th>payment_plan_days</th>\n",
       "      <th>plan_list_price</th>\n",
       "      <th>is_auto_renew</th>\n",
       "      <th>is_cancel</th>\n",
       "    </tr>\n",
       "  </thead>\n",
       "  <tbody>\n",
       "    <tr>\n",
       "      <th>0</th>\n",
       "      <td>1</td>\n",
       "      <td>male</td>\n",
       "      <td>7</td>\n",
       "      <td>41</td>\n",
       "      <td>30</td>\n",
       "      <td>100</td>\n",
       "      <td>1</td>\n",
       "      <td>0</td>\n",
       "    </tr>\n",
       "    <tr>\n",
       "      <th>1</th>\n",
       "      <td>1</td>\n",
       "      <td>male</td>\n",
       "      <td>7</td>\n",
       "      <td>41</td>\n",
       "      <td>30</td>\n",
       "      <td>100</td>\n",
       "      <td>1</td>\n",
       "      <td>0</td>\n",
       "    </tr>\n",
       "    <tr>\n",
       "      <th>2</th>\n",
       "      <td>1</td>\n",
       "      <td>male</td>\n",
       "      <td>7</td>\n",
       "      <td>41</td>\n",
       "      <td>30</td>\n",
       "      <td>99</td>\n",
       "      <td>1</td>\n",
       "      <td>0</td>\n",
       "    </tr>\n",
       "    <tr>\n",
       "      <th>3</th>\n",
       "      <td>1</td>\n",
       "      <td>male</td>\n",
       "      <td>7</td>\n",
       "      <td>41</td>\n",
       "      <td>30</td>\n",
       "      <td>99</td>\n",
       "      <td>1</td>\n",
       "      <td>0</td>\n",
       "    </tr>\n",
       "    <tr>\n",
       "      <th>4</th>\n",
       "      <td>1</td>\n",
       "      <td>male</td>\n",
       "      <td>7</td>\n",
       "      <td>41</td>\n",
       "      <td>30</td>\n",
       "      <td>99</td>\n",
       "      <td>1</td>\n",
       "      <td>0</td>\n",
       "    </tr>\n",
       "  </tbody>\n",
       "</table>\n",
       "</div>"
      ],
      "text/plain": [
       "  city gender registered_via payment_method_id payment_plan_days  \\\n",
       "0    1   male              7                41                30   \n",
       "1    1   male              7                41                30   \n",
       "2    1   male              7                41                30   \n",
       "3    1   male              7                41                30   \n",
       "4    1   male              7                41                30   \n",
       "\n",
       "  plan_list_price is_auto_renew is_cancel  \n",
       "0             100             1         0  \n",
       "1             100             1         0  \n",
       "2              99             1         0  \n",
       "3              99             1         0  \n",
       "4              99             1         0  "
      ]
     },
     "execution_count": 10,
     "metadata": {},
     "output_type": "execute_result"
    }
   ],
   "source": [
    "from sklearn import preprocessing\n",
    "import pickle\n",
    "\n",
    "# Impute missing before label encoding\n",
    "from sklearn.base import TransformerMixin\n",
    "class cat_imputer(TransformerMixin):\n",
    "    def _init_(self):\n",
    "        ''' categrical Imputer'''\n",
    "    def fit(self, x, y=None):\n",
    "        self.fill = x.value_counts().index[0]\n",
    "    def transform(self, x, y = None):\n",
    "        return x.fillna(self.fill)\n",
    "    \n",
    "for i in cat:\n",
    "    s = cat_imputer()\n",
    "    s.fit(train_mem_txn_user_log1[i])\n",
    "    train_mem_txn_user_log1[i] = s.transform(train_mem_txn_user_log1[i])\n",
    "    \n",
    "for i in cat:\n",
    "    train_mem_txn_user_log1[i] = train_mem_txn_user_log1[i].astype(str)\n",
    "train_mem_txn_user_log1[cat].head()"
   ]
  },
  {
   "cell_type": "code",
   "execution_count": 11,
   "metadata": {},
   "outputs": [],
   "source": [
    "cat1 = []\n",
    "num1 = []\n",
    "other = []\n",
    "\n",
    "for val in train_mem_txn_user_log1.columns.tolist():\n",
    "    if train_mem_txn_user_log1[val].dtypes == 'int64':\n",
    "        num1.append(val)\n",
    "    elif train_mem_txn_user_log1[val].dtypes == 'float64':\n",
    "        num1.append(val)\n",
    "    elif train_mem_txn_user_log1[val].dtypes == 'O':\n",
    "        cat1.append(val)\n",
    "    else:\n",
    "        other.append(val)\n",
    "        \n",
    "cat1.remove('msno'); num1.remove('is_churn')       "
   ]
  },
  {
   "cell_type": "code",
   "execution_count": 12,
   "metadata": {},
   "outputs": [],
   "source": [
    "train_mem_txn_user_log2 = train_mem_txn_user_log1.copy()"
   ]
  },
  {
   "cell_type": "code",
   "execution_count": 13,
   "metadata": {},
   "outputs": [],
   "source": [
    "aggregate = {\n",
    "    'actual_amount_paid':['median'],\n",
    "    'bd': ['median'],\n",
    "    'num_25': ['median'],\n",
    "    'num_50': ['median'],\n",
    "    'num_75': ['median'],\n",
    "    'num_985': ['median'],\n",
    "    'num_100': ['median'],\n",
    "    'num_unq': ['median'],\n",
    "    'total_secs': ['median']\n",
    "}\n",
    "\n",
    "train_mem_txn_user_log1_num = train_mem_txn_user_log2[num1+['msno']].groupby(['msno'], as_index=False, sort=False).agg(aggregate)\n",
    "train_mem_txn_user_log1_num.columns = [''.join(col).strip() for col in train_mem_txn_user_log1_num.columns.values]"
   ]
  },
  {
   "cell_type": "code",
   "execution_count": 14,
   "metadata": {},
   "outputs": [
    {
     "data": {
      "text/html": [
       "<div>\n",
       "<style scoped>\n",
       "    .dataframe tbody tr th:only-of-type {\n",
       "        vertical-align: middle;\n",
       "    }\n",
       "\n",
       "    .dataframe tbody tr th {\n",
       "        vertical-align: top;\n",
       "    }\n",
       "\n",
       "    .dataframe thead th {\n",
       "        text-align: right;\n",
       "    }\n",
       "</style>\n",
       "<table border=\"1\" class=\"dataframe\">\n",
       "  <thead>\n",
       "    <tr style=\"text-align: right;\">\n",
       "      <th></th>\n",
       "      <th>msno</th>\n",
       "      <th>payment_method_id</th>\n",
       "      <th>payment_plan_days</th>\n",
       "      <th>plan_list_price</th>\n",
       "      <th>is_auto_renew</th>\n",
       "      <th>is_cancel</th>\n",
       "      <th>city</th>\n",
       "      <th>gender</th>\n",
       "      <th>registered_via</th>\n",
       "    </tr>\n",
       "  </thead>\n",
       "  <tbody>\n",
       "    <tr>\n",
       "      <th>0</th>\n",
       "      <td>++1GCIyXZO7834NjDKmcK1lBVLQi9PsN6sOC7wfW+8g=</td>\n",
       "      <td>3</td>\n",
       "      <td>3</td>\n",
       "      <td>3</td>\n",
       "      <td>3</td>\n",
       "      <td>3</td>\n",
       "      <td>3</td>\n",
       "      <td>3</td>\n",
       "      <td>3</td>\n",
       "    </tr>\n",
       "    <tr>\n",
       "      <th>1</th>\n",
       "      <td>++5wYjoMgQHoRuD3GbbvmphZbBBwymzv5Q4l8sywtuU=</td>\n",
       "      <td>20</td>\n",
       "      <td>20</td>\n",
       "      <td>20</td>\n",
       "      <td>20</td>\n",
       "      <td>20</td>\n",
       "      <td>20</td>\n",
       "      <td>20</td>\n",
       "      <td>20</td>\n",
       "    </tr>\n",
       "    <tr>\n",
       "      <th>2</th>\n",
       "      <td>++95tJZADNg8U8HKbYdxbbXIRsO6pw1zBK4tHI7BtZo=</td>\n",
       "      <td>9</td>\n",
       "      <td>9</td>\n",
       "      <td>9</td>\n",
       "      <td>9</td>\n",
       "      <td>9</td>\n",
       "      <td>9</td>\n",
       "      <td>9</td>\n",
       "      <td>9</td>\n",
       "    </tr>\n",
       "    <tr>\n",
       "      <th>3</th>\n",
       "      <td>++JHjhFuSV7upQUju29UmOHStYHmNiW5th0xEyUGW8s=</td>\n",
       "      <td>1</td>\n",
       "      <td>1</td>\n",
       "      <td>1</td>\n",
       "      <td>1</td>\n",
       "      <td>1</td>\n",
       "      <td>1</td>\n",
       "      <td>1</td>\n",
       "      <td>1</td>\n",
       "    </tr>\n",
       "    <tr>\n",
       "      <th>4</th>\n",
       "      <td>++M4G6SSlhINyHbCMt5KVjPdbDAZkaJ0a51FF8lGr04=</td>\n",
       "      <td>11</td>\n",
       "      <td>11</td>\n",
       "      <td>11</td>\n",
       "      <td>11</td>\n",
       "      <td>11</td>\n",
       "      <td>11</td>\n",
       "      <td>11</td>\n",
       "      <td>11</td>\n",
       "    </tr>\n",
       "  </tbody>\n",
       "</table>\n",
       "</div>"
      ],
      "text/plain": [
       "                                           msno  payment_method_id  \\\n",
       "0  ++1GCIyXZO7834NjDKmcK1lBVLQi9PsN6sOC7wfW+8g=                  3   \n",
       "1  ++5wYjoMgQHoRuD3GbbvmphZbBBwymzv5Q4l8sywtuU=                 20   \n",
       "2  ++95tJZADNg8U8HKbYdxbbXIRsO6pw1zBK4tHI7BtZo=                  9   \n",
       "3  ++JHjhFuSV7upQUju29UmOHStYHmNiW5th0xEyUGW8s=                  1   \n",
       "4  ++M4G6SSlhINyHbCMt5KVjPdbDAZkaJ0a51FF8lGr04=                 11   \n",
       "\n",
       "   payment_plan_days  plan_list_price  is_auto_renew  is_cancel  city  gender  \\\n",
       "0                  3                3              3          3     3       3   \n",
       "1                 20               20             20         20    20      20   \n",
       "2                  9                9              9          9     9       9   \n",
       "3                  1                1              1          1     1       1   \n",
       "4                 11               11             11         11    11      11   \n",
       "\n",
       "   registered_via  \n",
       "0               3  \n",
       "1              20  \n",
       "2               9  \n",
       "3               1  \n",
       "4              11  "
      ]
     },
     "execution_count": 14,
     "metadata": {},
     "output_type": "execute_result"
    }
   ],
   "source": [
    "from pandasql import sqldf\n",
    "pysqldf =  lambda q: sqldf(q, globals())\n",
    "\n",
    "q = \"\"\"\n",
    "select\n",
    "    msno,\n",
    "    count(*) as payment_method_id,\n",
    "    count(*) as payment_plan_days,\n",
    "    count(*) as plan_list_price,\n",
    "    count(*) as is_auto_renew,\n",
    "    count(*) as is_cancel,\n",
    "    count(*) as city,\n",
    "    count(*) as gender,\n",
    "    count(*) as registered_via\n",
    "    \n",
    "from train_mem_txn_user_log2\n",
    "group by msno\n",
    "\"\"\"\n",
    "train_mem_txn_user_log1_char1 = pysqldf(q)\n",
    "train_mem_txn_user_log1_char1.head()"
   ]
  },
  {
   "cell_type": "code",
   "execution_count": 15,
   "metadata": {},
   "outputs": [],
   "source": [
    "gender = {'male':1, 'female': 2}\n",
    "train_mem_txn_user_log2.gender = [gender[x] for x in train_mem_txn_user_log2.gender]\n",
    "for i in cat1:\n",
    "    train_mem_txn_user_log2[i] = train_mem_txn_user_log2[i].astype(np.int)"
   ]
  },
  {
   "cell_type": "code",
   "execution_count": 16,
   "metadata": {},
   "outputs": [],
   "source": [
    "train_mem_txn_user_log1_0 = pd.merge(train_mem_txn_user_log1_num, train_mem_txn_user_log1_char1, on = 'msno', how='left')\n",
    "train_mem_txn_user_log1 = pd.merge(master_data, train_mem_txn_user_log1_0, on = 'msno', how='left')"
   ]
  },
  {
   "cell_type": "code",
   "execution_count": 17,
   "metadata": {},
   "outputs": [],
   "source": [
    "# do the modeling work from here\n",
    "from sklearn.model_selection import train_test_split\n",
    "target = 'is_churn'\n",
    "\n",
    "Intime_x = train_mem_txn_user_log1.drop(['msno', 'is_churn'], axis = 1)\n",
    "Intime_y = train_mem_txn_user_log1.loc[:, train_mem_txn_user_log1.columns == target]\n",
    "\n",
    "xTrain, xTest, yTrain, yTest = train_test_split(Intime_x, Intime_y, test_size = 0.5, random_state = 0)"
   ]
  },
  {
   "cell_type": "code",
   "execution_count": 18,
   "metadata": {},
   "outputs": [],
   "source": [
    "from sklearn.feature_selection import RFE\n",
    "from sklearn.model_selection import cross_val_score\n",
    "from sklearn import metrics\n",
    "from sklearn.metrics import confusion_matrix, accuracy_score, recall_score, precision_score, roc_auc_score, roc_curve, precision_recall_curve, f1_score, auc\n",
    "from sklearn.model_selection import RandomizedSearchCV\n",
    "import matplotlib.pyplot as plt\n",
    "from matplotlib import pyplot\n",
    "%matplotlib inline"
   ]
  },
  {
   "cell_type": "code",
   "execution_count": 19,
   "metadata": {},
   "outputs": [],
   "source": [
    "n_estimators = [int(x) for x in np.linspace(start = 10, stop = 30, num = 10)]\n",
    "max_features = ['auto', 'sqrt', 'log2']\n",
    "criterion = ['gini', 'entropy']\n",
    "max_depth = [int(x) for x in np.linspace(2, 6, num = 5)]\n",
    "min_samples_split = [int(x) for x in np.linspace(2, 12, num = 10)]\n",
    "min_samples_leaf = [int(x) for x in np.linspace(1, 10, num = 10)]\n",
    "max_leaf_nodes = [None, 2, 3, 4, 5]\n",
    "bootstrap = [True, False]\n",
    "\n",
    "random_grid_rfc = {'n_estimators': n_estimators,\n",
    "                   'max_features': max_features,\n",
    "                   'criterion': criterion,\n",
    "                   'max_depth': max_depth,\n",
    "                   'min_samples_split': min_samples_split,\n",
    "                   'min_samples_leaf': min_samples_leaf,\n",
    "                   'max_leaf_nodes': max_leaf_nodes,\n",
    "                   'bootstrap': bootstrap}"
   ]
  },
  {
   "cell_type": "code",
   "execution_count": 20,
   "metadata": {},
   "outputs": [
    {
     "name": "stdout",
     "output_type": "stream",
     "text": [
      "Fitting 2 folds for each of 42 candidates, totalling 84 fits\n"
     ]
    },
    {
     "name": "stderr",
     "output_type": "stream",
     "text": [
      "[Parallel(n_jobs=-1)]: Using backend LokyBackend with 4 concurrent workers.\n",
      "[Parallel(n_jobs=-1)]: Done  10 tasks      | elapsed:    2.7s\n",
      "[Parallel(n_jobs=-1)]: Done  64 tasks      | elapsed:    8.9s\n",
      "[Parallel(n_jobs=-1)]: Done  84 out of  84 | elapsed:   11.5s finished\n"
     ]
    },
    {
     "data": {
      "text/plain": [
       "RandomizedSearchCV(cv=2, error_score=nan,\n",
       "                   estimator=RandomForestClassifier(bootstrap=True,\n",
       "                                                    ccp_alpha=0.0,\n",
       "                                                    class_weight=None,\n",
       "                                                    criterion='gini',\n",
       "                                                    max_depth=None,\n",
       "                                                    max_features='auto',\n",
       "                                                    max_leaf_nodes=None,\n",
       "                                                    max_samples=None,\n",
       "                                                    min_impurity_decrease=0.0,\n",
       "                                                    min_impurity_split=None,\n",
       "                                                    min_samples_leaf=1,\n",
       "                                                    min_samples_split=2,\n",
       "                                                    min_weight_fraction_leaf=0.0,\n",
       "                                                    n_estimators=100,\n",
       "                                                    n_jobs...\n",
       "                                        'criterion': ['gini', 'entropy'],\n",
       "                                        'max_depth': [2, 3, 4, 5, 6],\n",
       "                                        'max_features': ['auto', 'sqrt',\n",
       "                                                         'log2'],\n",
       "                                        'max_leaf_nodes': [None, 2, 3, 4, 5],\n",
       "                                        'min_samples_leaf': [1, 2, 3, 4, 5, 6,\n",
       "                                                             7, 8, 9, 10],\n",
       "                                        'min_samples_split': [2, 3, 4, 5, 6, 7,\n",
       "                                                              8, 9, 10, 12],\n",
       "                                        'n_estimators': [10, 12, 14, 16, 18, 21,\n",
       "                                                         23, 25, 27, 30]},\n",
       "                   pre_dispatch='2*n_jobs', random_state=0, refit=True,\n",
       "                   return_train_score=False, scoring='roc_auc', verbose=5)"
      ]
     },
     "execution_count": 20,
     "metadata": {},
     "output_type": "execute_result"
    }
   ],
   "source": [
    "from sklearn.ensemble import RandomForestClassifier as RFC\n",
    "rfc_random = RandomizedSearchCV(estimator = RFC(random_state =0), param_distributions = random_grid_rfc, n_iter = sum(map(len, random_grid_rfc.values()))-5, cv = 2, verbose = 5, random_state =0, n_jobs = -1, scoring = 'roc_auc')\n",
    "rfc_random.fit(xTrain, yTrain)"
   ]
  },
  {
   "cell_type": "code",
   "execution_count": 21,
   "metadata": {},
   "outputs": [
    {
     "data": {
      "text/html": [
       "<div>\n",
       "<style scoped>\n",
       "    .dataframe tbody tr th:only-of-type {\n",
       "        vertical-align: middle;\n",
       "    }\n",
       "\n",
       "    .dataframe tbody tr th {\n",
       "        vertical-align: top;\n",
       "    }\n",
       "\n",
       "    .dataframe thead th {\n",
       "        text-align: right;\n",
       "    }\n",
       "</style>\n",
       "<table border=\"1\" class=\"dataframe\">\n",
       "  <thead>\n",
       "    <tr style=\"text-align: right;\">\n",
       "      <th></th>\n",
       "      <th>dataset</th>\n",
       "      <th>aucroc</th>\n",
       "    </tr>\n",
       "  </thead>\n",
       "  <tbody>\n",
       "    <tr>\n",
       "      <th>0</th>\n",
       "      <td>Train</td>\n",
       "      <td>0.764871</td>\n",
       "    </tr>\n",
       "    <tr>\n",
       "      <th>1</th>\n",
       "      <td>Test</td>\n",
       "      <td>0.768840</td>\n",
       "    </tr>\n",
       "  </tbody>\n",
       "</table>\n",
       "</div>"
      ],
      "text/plain": [
       "  dataset    aucroc\n",
       "0   Train  0.764871\n",
       "1    Test  0.768840"
      ]
     },
     "execution_count": 21,
     "metadata": {},
     "output_type": "execute_result"
    }
   ],
   "source": [
    "rfc_tunned = rfc_random.best_estimator_.fit(xTrain, yTrain)\n",
    "xTrain_score = rfc_tunned.predict_proba(xTrain)[:,1].astype('float64')\n",
    "xTest_score = rfc_tunned.predict_proba(xTest)[:,1].astype('float64')\n",
    "auc_xTrain = roc_auc_score(yTrain, xTrain_score)\n",
    "auc_xTest = roc_auc_score(yTest, xTest_score)\n",
    "dataset = pd.DataFrame(['Train', 'Test'], columns = ['dataset'])\n",
    "auc = pd.DataFrame([auc_xTrain, auc_xTest], columns = ['aucroc']) \n",
    "table = pd.concat([dataset, auc], axis = 1)\n",
    "table"
   ]
  },
  {
   "cell_type": "code",
   "execution_count": 22,
   "metadata": {},
   "outputs": [
    {
     "data": {
      "image/png": "[encoded data removed]",
      "text/plain": [
       "<Figure size 432x288 with 1 Axes>"
      ]
     },
     "metadata": {
      "needs_background": "light"
     },
     "output_type": "display_data"
    }
   ],
   "source": [
    "# get the important variables since other models are throwing error cause of excessive memory use at the time of hyperparameter tunning\n",
    "feature_importances = pd.DataFrame(rfc_tunned.feature_importances_,\n",
    "                                   index = xTrain.columns,\n",
    "                                   columns = ['importance']).sort_values('importance', ascending = False)\n",
    "feature_importances = feature_importances.loc[feature_importances['importance'] > 0.001, :]\n",
    "features = xTrain.loc[:, feature_importances.index.tolist()].columns.tolist()\n",
    "importances = rfc_tunned.feature_importances_\n",
    "importances = np.array(list(filter(lambda x: x>0.001, importances)))\n",
    "indices = np.argsort(importances)\n",
    "plt.title('feature importance')\n",
    "plt.barh(range(len(indices)), importances[indices], color = 'y', align = 'center')\n",
    "plt.yticks(range(len(indices)), [features[i] for i in indices], fontsize=8)\n",
    "plt.xlabel('Feature Importance', fontsize=12)\n",
    "plt.savefig('featuretools_feature_importances.png')"
   ]
  },
  {
   "cell_type": "code",
   "execution_count": 23,
   "metadata": {},
   "outputs": [
    {
     "name": "stdout",
     "output_type": "stream",
     "text": [
      "Fitting 2 folds for each of 42 candidates, totalling 84 fits\n"
     ]
    },
    {
     "name": "stderr",
     "output_type": "stream",
     "text": [
      "[Parallel(n_jobs=-1)]: Using backend LokyBackend with 4 concurrent workers.\n",
      "[Parallel(n_jobs=-1)]: Done  10 tasks      | elapsed:    1.1s\n",
      "[Parallel(n_jobs=-1)]: Done  64 tasks      | elapsed:    7.4s\n",
      "[Parallel(n_jobs=-1)]: Done  84 out of  84 | elapsed:   10.1s finished\n"
     ]
    },
    {
     "data": {
      "text/plain": [
       "RandomizedSearchCV(cv=2, error_score=nan,\n",
       "                   estimator=RandomForestClassifier(bootstrap=True,\n",
       "                                                    ccp_alpha=0.0,\n",
       "                                                    class_weight=None,\n",
       "                                                    criterion='gini',\n",
       "                                                    max_depth=None,\n",
       "                                                    max_features='auto',\n",
       "                                                    max_leaf_nodes=None,\n",
       "                                                    max_samples=None,\n",
       "                                                    min_impurity_decrease=0.0,\n",
       "                                                    min_impurity_split=None,\n",
       "                                                    min_samples_leaf=1,\n",
       "                                                    min_samples_split=2,\n",
       "                                                    min_weight_fraction_leaf=0.0,\n",
       "                                                    n_estimators=100,\n",
       "                                                    n_jobs...\n",
       "                                        'criterion': ['gini', 'entropy'],\n",
       "                                        'max_depth': [2, 3, 4, 5, 6],\n",
       "                                        'max_features': ['auto', 'sqrt',\n",
       "                                                         'log2'],\n",
       "                                        'max_leaf_nodes': [None, 2, 3, 4, 5],\n",
       "                                        'min_samples_leaf': [1, 2, 3, 4, 5, 6,\n",
       "                                                             7, 8, 9, 10],\n",
       "                                        'min_samples_split': [2, 3, 4, 5, 6, 7,\n",
       "                                                              8, 9, 10, 12],\n",
       "                                        'n_estimators': [10, 12, 14, 16, 18, 21,\n",
       "                                                         23, 25, 27, 30]},\n",
       "                   pre_dispatch='2*n_jobs', random_state=0, refit=True,\n",
       "                   return_train_score=False, scoring='roc_auc', verbose=5)"
      ]
     },
     "execution_count": 23,
     "metadata": {},
     "output_type": "execute_result"
    }
   ],
   "source": [
    "rfc_random = RandomizedSearchCV(estimator = RFC(random_state =0), param_distributions = random_grid_rfc, n_iter = sum(map(len, random_grid_rfc.values()))-5, cv = 2, verbose = 5, random_state =0, n_jobs = -1, scoring = 'roc_auc')\n",
    "rfc_random.fit(xTrain.loc[:, feature_importances.index.tolist()], yTrain)"
   ]
  },
  {
   "cell_type": "code",
   "execution_count": 24,
   "metadata": {},
   "outputs": [
    {
     "data": {
      "text/html": [
       "<div>\n",
       "<style scoped>\n",
       "    .dataframe tbody tr th:only-of-type {\n",
       "        vertical-align: middle;\n",
       "    }\n",
       "\n",
       "    .dataframe tbody tr th {\n",
       "        vertical-align: top;\n",
       "    }\n",
       "\n",
       "    .dataframe thead th {\n",
       "        text-align: right;\n",
       "    }\n",
       "</style>\n",
       "<table border=\"1\" class=\"dataframe\">\n",
       "  <thead>\n",
       "    <tr style=\"text-align: right;\">\n",
       "      <th></th>\n",
       "      <th>dataset</th>\n",
       "      <th>aucroc</th>\n",
       "    </tr>\n",
       "  </thead>\n",
       "  <tbody>\n",
       "    <tr>\n",
       "      <th>0</th>\n",
       "      <td>Train</td>\n",
       "      <td>0.776652</td>\n",
       "    </tr>\n",
       "    <tr>\n",
       "      <th>1</th>\n",
       "      <td>Test</td>\n",
       "      <td>0.776204</td>\n",
       "    </tr>\n",
       "  </tbody>\n",
       "</table>\n",
       "</div>"
      ],
      "text/plain": [
       "  dataset    aucroc\n",
       "0   Train  0.776652\n",
       "1    Test  0.776204"
      ]
     },
     "execution_count": 24,
     "metadata": {},
     "output_type": "execute_result"
    }
   ],
   "source": [
    "rfc_tunned = rfc_random.best_estimator_.fit(xTrain.loc[:, feature_importances.index.tolist()], yTrain)\n",
    "xTrain_score = rfc_tunned.predict_proba(xTrain.loc[:, feature_importances.index.tolist()])[:,1].astype('float64')\n",
    "xTest_score = rfc_tunned.predict_proba(xTest.loc[:, feature_importances.index.tolist()])[:,1].astype('float64')\n",
    "auc_xTrain = roc_auc_score(yTrain, xTrain_score)\n",
    "auc_xTest = roc_auc_score(yTest, xTest_score)\n",
    "dataset = pd.DataFrame(['Train', 'Test'], columns = ['dataset'])\n",
    "auc = pd.DataFrame([auc_xTrain, auc_xTest], columns = ['aucroc']) \n",
    "table = pd.concat([dataset, auc], axis = 1)\n",
    "table"
   ]
  },
  {
   "cell_type": "code",
   "execution_count": 25,
   "metadata": {},
   "outputs": [],
   "source": [
    "pd.DataFrame().to_excel('benchmark_model.xlsx')\n",
    "from openpyxl import load_workbook\n",
    "book = load_workbook('benchmark_model.xlsx')\n",
    "writer = pd.ExcelWriter('benchmark_model.xlsx', engine = 'openpyxl')\n",
    "writer.book = book\n",
    "table.to_excel(writer, sheet_name = 'RFC', index = False, startrow=2)\n",
    "std = book.get_sheet_by_name('Sheet1')\n",
    "book.remove_sheet(std)\n",
    "writer.save()"
   ]
  },
  {
   "cell_type": "code",
   "execution_count": 26,
   "metadata": {},
   "outputs": [],
   "source": [
    "feature_importances.to_excel(writer, sheet_name = 'feature_importances', startrow=2)\n",
    "writer.save()"
   ]
  },
  {
   "cell_type": "code",
   "execution_count": 27,
   "metadata": {},
   "outputs": [],
   "source": [
    "def model_performance(yTrain, xTrain_score, model_name, xTrain, yTest, xTest_score, xTest, combined_data, writer, sheet_name):\n",
    "    # calculate roc curves on Train data only\n",
    "    ns_probs = [0 for _ in range(len(yTrain))]\n",
    "    ns_auc = roc_auc_score(yTrain, ns_probs)\n",
    "    lr_auc = roc_auc_score(yTrain, xTrain_score)\n",
    "    # summarize scores\n",
    "    print('Train : No Model Score: ROC AUC=%.3f' % (ns_auc))\n",
    "    print('Train : Model : ROC AUC=%.3f' % (lr_auc))\n",
    "    ns_fpr, ns_tpr, _ = roc_curve(yTrain, ns_probs)\n",
    "    lr_fpr, lr_tpr, _ = roc_curve(yTrain, xTrain_score)\n",
    "    # plot the roc curve for the model\n",
    "    pyplot.plot(ns_fpr, ns_tpr, linestyle='--', label= 'Train:No Model Score')\n",
    "    pyplot.plot(lr_fpr, lr_tpr, marker='.', label= 'Train:Model')\n",
    "    # axis labels\n",
    "    pyplot.xlabel('False Positive Rate')\n",
    "    pyplot.ylabel('True Positive Rate')\n",
    "    # show the legend\n",
    "    pyplot.legend()\n",
    "    # show the plot\n",
    "    pyplot.show()\n",
    "    # Precision and recall and F1-score on Train data only\n",
    "    yhat = model_name.predict(xTrain.loc[:, feature_importances.index.tolist()])\n",
    "    precision, recall, _ = roc_curve(yTrain, xTrain_score)\n",
    "    f1 = f1_score(yTrain['is_churn'], yhat) \n",
    "    auc = metrics.auc(precision, recall)\n",
    "    # summarize scores on Train data only\n",
    "    print('Train : f1=%.3f auc=%.3f' % (f1, auc))\n",
    "    pd.DataFrame([f1, auc], index=['f1','AUC'], columns = ['Train']).to_excel(writer, sheet_name = sheet_name, startrow=6)\n",
    "    writer.save()\n",
    "    \n",
    "    # calculate roc curves on Test data only\n",
    "    ns_probs = [0 for _ in range(len(yTest))]\n",
    "    ns_auc = roc_auc_score(yTest, ns_probs)\n",
    "    lr_auc = roc_auc_score(yTest, xTest_score)\n",
    "    # summarize scores\n",
    "    print('Test : No Model Score: ROC AUC=%.3f' % (ns_auc))\n",
    "    print('Test : Model : ROC AUC=%.3f' % (lr_auc))\n",
    "    ns_fpr, ns_tpr, _ = roc_curve(yTest, ns_probs)\n",
    "    lr_fpr, lr_tpr, _ = roc_curve(yTest, xTest_score)\n",
    "    # plot the roc curve for the model\n",
    "    pyplot.plot(ns_fpr, ns_tpr, linestyle='--', label= 'Test:No Model Score')\n",
    "    pyplot.plot(lr_fpr, lr_tpr, marker='.', label= 'Test:Model')\n",
    "    # axis labels\n",
    "    pyplot.xlabel('False Positive Rate')\n",
    "    pyplot.ylabel('True Positive Rate')\n",
    "    # show the legend\n",
    "    pyplot.legend()\n",
    "    # show the plot\n",
    "    pyplot.show()\n",
    "    # Precision and recall and F1-score on Test data only\n",
    "    yhat = model_name.predict(xTest.loc[:, feature_importances.index.tolist()])\n",
    "    precision, recall, _ = roc_curve(yTest, xTest_score)\n",
    "    f1 = f1_score(yTest['is_churn'], yhat) \n",
    "    auc = metrics.auc(precision, recall)\n",
    "    # summarize scores\n",
    "    print('Test : Model : f1=%.3f auc=%.3f' % (f1, auc))\n",
    "    pd.DataFrame([f1, auc], index=['f1','AUC'], columns = ['Test']).to_excel(writer, sheet_name = sheet_name, startrow=10)\n",
    "    writer.save()\n",
    "\n",
    "    total_score1 = model_name.predict_proba(combined_data.loc[:, feature_importances.index.tolist()])[:,1].astype('float64')\n",
    "    total_score = pd.DataFrame(total_score1, columns = ['pred'], index=combined_data.index.tolist()).apply(lambda x: round(x)).astype('int64')\n",
    "    \n",
    "    # calculate roc curves on Total(Train_Test) data \n",
    "    ns_probs = [0 for _ in range(len(combined_data.loc[:, target]))]\n",
    "    ns_auc = roc_auc_score(combined_data.loc[:, target], ns_probs)\n",
    "    lr_auc = roc_auc_score(combined_data.loc[:, target], total_score1)\n",
    "    # summarize scores\n",
    "    print('Total : No Model Score: ROC AUC=%.3f' % (ns_auc))\n",
    "    print('Total : Model : ROC AUC=%.3f' % (lr_auc))\n",
    "    ns_fpr, ns_tpr, _ = roc_curve(combined_data.loc[:, target], ns_probs)\n",
    "    lr_fpr, lr_tpr, _ = roc_curve(combined_data.loc[:, target], total_score1)\n",
    "    # plot the roc curve for the model\n",
    "    pyplot.plot(ns_fpr, ns_tpr, linestyle='--', label='Total:No Model Score')\n",
    "    pyplot.plot(lr_fpr, lr_tpr, marker='.', label='Total:Model')\n",
    "    # axis labels\n",
    "    pyplot.xlabel('False Positive Rate')\n",
    "    pyplot.ylabel('True Positive Rate')\n",
    "    # show the legend\n",
    "    pyplot.legend()\n",
    "    # show the plot\n",
    "    pyplot.show()\n",
    "    # Precision and recall and F1-score on Train data only\n",
    "    yhat = model_name.predict(combined_data.loc[:, feature_importances.index.tolist()])\n",
    "    precision, recall, _ = roc_curve(combined_data.loc[:, target], total_score1)\n",
    "    f1 = f1_score(combined_data['is_churn'], yhat) \n",
    "    auc = metrics.auc(precision, recall)\n",
    "    \n",
    "    weighted_accuracy = recall_score(combined_data['is_churn'], total_score['pred'], average='weighted')\n",
    "    # summarize scores on Total(Train_Test) data\n",
    "    print('Unique_Customers : Model : f1=%.3f auc=%.3f weighted_accuracy=%.3f' % (f1, auc, weighted_accuracy))\n",
    "    \n",
    "    pd.DataFrame([f1, auc, weighted_accuracy], index=['f1','AUC', 'weighted_accuracy'], columns = ['Total_uniq_at_custlevel']).to_excel(writer, sheet_name = sheet_name, startrow=14)\n",
    "    writer.save()\n",
    "    writer.close()\n",
    "    "
   ]
  },
  {
   "cell_type": "code",
   "execution_count": 28,
   "metadata": {},
   "outputs": [
    {
     "name": "stdout",
     "output_type": "stream",
     "text": [
      "Train : No Model Score: ROC AUC=0.500\n",
      "Train : Model : ROC AUC=0.777\n"
     ]
    },
    {
     "data": {
      "image/png": "[encoded data removed]",
      "text/plain": [
       "<Figure size 432x288 with 1 Axes>"
      ]
     },
     "metadata": {
      "needs_background": "light"
     },
     "output_type": "display_data"
    },
    {
     "name": "stdout",
     "output_type": "stream",
     "text": [
      "Train : f1=0.478 auc=0.777\n",
      "Test : No Model Score: ROC AUC=0.500\n",
      "Test : Model : ROC AUC=0.776\n"
     ]
    },
    {
     "data": {
      "image/png": "[encoded data removed]",
      "text/plain": [
       "<Figure size 432x288 with 1 Axes>"
      ]
     },
     "metadata": {
      "needs_background": "light"
     },
     "output_type": "display_data"
    },
    {
     "name": "stdout",
     "output_type": "stream",
     "text": [
      "Test : Model : f1=0.479 auc=0.776\n",
      "Total : No Model Score: ROC AUC=0.500\n",
      "Total : Model : ROC AUC=0.776\n"
     ]
    },
    {
     "data": {
      "image/png": "[encoded data removed]",
      "text/plain": [
       "<Figure size 432x288 with 1 Axes>"
      ]
     },
     "metadata": {
      "needs_background": "light"
     },
     "output_type": "display_data"
    },
    {
     "name": "stdout",
     "output_type": "stream",
     "text": [
      "Unique_Customers : Model : f1=0.479 auc=0.776 weighted_accuracy=0.950\n"
     ]
    }
   ],
   "source": [
    "model_performance(yTrain, xTrain_score, rfc_tunned, xTrain, yTest, xTest_score, xTest, train_mem_txn_user_log1, writer, 'RFC')"
   ]
  },
  {
   "cell_type": "code",
   "execution_count": 29,
   "metadata": {},
   "outputs": [],
   "source": [
    "######################################### Gradient Boosting Hyperparameter Model ####################################\n",
    "from sklearn.ensemble import GradientBoostingClassifier\n",
    "random_grid_gbc = {'loss': ['deviance', 'exponential'],\n",
    "                   'learning_rate': [x for x in np.linspace(start = 0.01, stop = 1, num = 10)],\n",
    "                   'criterion': ['friedman_mse', 'mse'],\n",
    "                   'max_features': max_features,\n",
    "                   'min_samples_split': min_samples_split,\n",
    "                   'min_samples_leaf': min_samples_leaf,\n",
    "                   'max_depth': max_depth}"
   ]
  },
  {
   "cell_type": "code",
   "execution_count": 30,
   "metadata": {},
   "outputs": [
    {
     "name": "stdout",
     "output_type": "stream",
     "text": [
      "Fitting 2 folds for each of 37 candidates, totalling 74 fits\n"
     ]
    },
    {
     "name": "stderr",
     "output_type": "stream",
     "text": [
      "[Parallel(n_jobs=-1)]: Using backend LokyBackend with 4 concurrent workers.\n",
      "[Parallel(n_jobs=-1)]: Done  33 tasks      | elapsed:   49.9s\n",
      "[Parallel(n_jobs=-1)]: Done  74 out of  74 | elapsed:  1.6min finished\n"
     ]
    },
    {
     "name": "stdout",
     "output_type": "stream",
     "text": [
      "{'min_samples_split': 4, 'min_samples_leaf': 4, 'max_features': 'auto', 'max_depth': 6, 'loss': 'exponential', 'learning_rate': 0.01, 'criterion': 'friedman_mse'}\n"
     ]
    }
   ],
   "source": [
    "gbc_random = RandomizedSearchCV(estimator = GradientBoostingClassifier(random_state =0), param_distributions = random_grid_gbc, n_iter = sum(map(len, random_grid_gbc.values()))-5, cv = 2, verbose = 2, random_state =0, n_jobs = -1, scoring = 'roc_auc')\n",
    "gbc_random.fit(xTrain.loc[:, feature_importances.index.tolist()], yTrain)\n",
    "print(gbc_random.best_params_)"
   ]
  },
  {
   "cell_type": "code",
   "execution_count": 31,
   "metadata": {},
   "outputs": [
    {
     "data": {
      "text/html": [
       "<div>\n",
       "<style scoped>\n",
       "    .dataframe tbody tr th:only-of-type {\n",
       "        vertical-align: middle;\n",
       "    }\n",
       "\n",
       "    .dataframe tbody tr th {\n",
       "        vertical-align: top;\n",
       "    }\n",
       "\n",
       "    .dataframe thead th {\n",
       "        text-align: right;\n",
       "    }\n",
       "</style>\n",
       "<table border=\"1\" class=\"dataframe\">\n",
       "  <thead>\n",
       "    <tr style=\"text-align: right;\">\n",
       "      <th></th>\n",
       "      <th>dataset</th>\n",
       "      <th>aucroc</th>\n",
       "    </tr>\n",
       "  </thead>\n",
       "  <tbody>\n",
       "    <tr>\n",
       "      <th>0</th>\n",
       "      <td>Train</td>\n",
       "      <td>0.790524</td>\n",
       "    </tr>\n",
       "    <tr>\n",
       "      <th>1</th>\n",
       "      <td>Test</td>\n",
       "      <td>0.787799</td>\n",
       "    </tr>\n",
       "  </tbody>\n",
       "</table>\n",
       "</div>"
      ],
      "text/plain": [
       "  dataset    aucroc\n",
       "0   Train  0.790524\n",
       "1    Test  0.787799"
      ]
     },
     "execution_count": 31,
     "metadata": {},
     "output_type": "execute_result"
    }
   ],
   "source": [
    "gbc_tunned = gbc_random.best_estimator_.fit(xTrain.loc[:, feature_importances.index.tolist()], yTrain)\n",
    "xTrain_score = gbc_tunned.predict_proba(xTrain.loc[:, feature_importances.index.tolist()])[:,1].astype('float64')\n",
    "xTest_score = gbc_tunned.predict_proba(xTest.loc[:, feature_importances.index.tolist()])[:,1].astype('float64')\n",
    "auc_xTrain = roc_auc_score(yTrain, xTrain_score)\n",
    "auc_xTest = roc_auc_score(yTest, xTest_score)\n",
    "dataset = pd.DataFrame(['Train', 'Test'], columns = ['dataset'])\n",
    "auc = pd.DataFrame([auc_xTrain, auc_xTest], columns = ['aucroc']) \n",
    "table = pd.concat([dataset, auc], axis = 1)\n",
    "table"
   ]
  },
  {
   "cell_type": "code",
   "execution_count": 32,
   "metadata": {},
   "outputs": [],
   "source": [
    "book = load_workbook('benchmark_model.xlsx')\n",
    "writer = pd.ExcelWriter('benchmark_model.xlsx', engine = 'openpyxl')\n",
    "writer.book = book\n",
    "table.to_excel(writer, sheet_name = 'GBC', index = False, startrow=2)\n",
    "writer.save()"
   ]
  },
  {
   "cell_type": "code",
   "execution_count": 33,
   "metadata": {},
   "outputs": [
    {
     "name": "stdout",
     "output_type": "stream",
     "text": [
      "Train : No Model Score: ROC AUC=0.500\n",
      "Train : Model : ROC AUC=0.791\n"
     ]
    },
    {
     "data": {
      "image/png": "[encoded data removed]",
      "text/plain": [
       "<Figure size 432x288 with 1 Axes>"
      ]
     },
     "metadata": {
      "needs_background": "light"
     },
     "output_type": "display_data"
    },
    {
     "name": "stdout",
     "output_type": "stream",
     "text": [
      "Train : f1=0.000 auc=0.791\n",
      "Test : No Model Score: ROC AUC=0.500\n",
      "Test : Model : ROC AUC=0.788\n"
     ]
    },
    {
     "data": {
      "image/png": "[encoded data removed]",
      "text/plain": [
       "<Figure size 432x288 with 1 Axes>"
      ]
     },
     "metadata": {
      "needs_background": "light"
     },
     "output_type": "display_data"
    },
    {
     "name": "stdout",
     "output_type": "stream",
     "text": [
      "Test : Model : f1=0.000 auc=0.788\n",
      "Total : No Model Score: ROC AUC=0.500\n",
      "Total : Model : ROC AUC=0.789\n"
     ]
    },
    {
     "data": {
      "image/png": "[encoded data removed]",
      "text/plain": [
       "<Figure size 432x288 with 1 Axes>"
      ]
     },
     "metadata": {
      "needs_background": "light"
     },
     "output_type": "display_data"
    },
    {
     "name": "stdout",
     "output_type": "stream",
     "text": [
      "Unique_Customers : Model : f1=0.000 auc=0.789 weighted_accuracy=0.927\n"
     ]
    }
   ],
   "source": [
    "model_performance(yTrain, xTrain_score, gbc_tunned, xTrain, yTest, xTest_score, xTest, train_mem_txn_user_log1, writer, 'GBC')"
   ]
  },
  {
   "cell_type": "code",
   "execution_count": 34,
   "metadata": {},
   "outputs": [],
   "source": [
    "##################################### XGBClassifier #############################################\n",
    "import xgboost\n",
    "\n",
    "from xgboost import XGBClassifier\n",
    "\n",
    "random_grid_xgb = {'booster': ['gbtree', 'gblinear'],\n",
    "                   'n_estimators': n_estimators,\n",
    "                   'learning_rate': [x for x in np.linspace(start = 0.01, stop = 1, num = 10)],\n",
    "                   'gamma': [2, 5, 10],\n",
    "                   'max_depth': max_depth}"
   ]
  },
  {
   "cell_type": "code",
   "execution_count": 35,
   "metadata": {},
   "outputs": [
    {
     "name": "stdout",
     "output_type": "stream",
     "text": [
      "Fitting 2 folds for each of 25 candidates, totalling 50 fits\n"
     ]
    },
    {
     "name": "stderr",
     "output_type": "stream",
     "text": [
      "[Parallel(n_jobs=-1)]: Using backend LokyBackend with 4 concurrent workers.\n",
      "[Parallel(n_jobs=-1)]: Done  33 tasks      | elapsed:    5.5s\n",
      "[Parallel(n_jobs=-1)]: Done  50 out of  50 | elapsed:    7.3s finished\n"
     ]
    },
    {
     "name": "stdout",
     "output_type": "stream",
     "text": [
      "{'n_estimators': 16, 'max_depth': 3, 'learning_rate': 0.56, 'gamma': 5, 'booster': 'gbtree'}\n"
     ]
    }
   ],
   "source": [
    "xgb_random = RandomizedSearchCV(estimator = XGBClassifier(random_state =0), param_distributions = random_grid_xgb, n_iter = sum(map(len, random_grid_xgb.values()))-5, cv = 2, verbose = 2, random_state =0, n_jobs = -1, scoring = 'roc_auc')\n",
    "xgb_random.fit(xTrain.loc[:, feature_importances.index.tolist()], yTrain)\n",
    "print(xgb_random.best_params_)"
   ]
  },
  {
   "cell_type": "code",
   "execution_count": 36,
   "metadata": {},
   "outputs": [
    {
     "data": {
      "text/html": [
       "<div>\n",
       "<style scoped>\n",
       "    .dataframe tbody tr th:only-of-type {\n",
       "        vertical-align: middle;\n",
       "    }\n",
       "\n",
       "    .dataframe tbody tr th {\n",
       "        vertical-align: top;\n",
       "    }\n",
       "\n",
       "    .dataframe thead th {\n",
       "        text-align: right;\n",
       "    }\n",
       "</style>\n",
       "<table border=\"1\" class=\"dataframe\">\n",
       "  <thead>\n",
       "    <tr style=\"text-align: right;\">\n",
       "      <th></th>\n",
       "      <th>dataset</th>\n",
       "      <th>aucroc</th>\n",
       "    </tr>\n",
       "  </thead>\n",
       "  <tbody>\n",
       "    <tr>\n",
       "      <th>0</th>\n",
       "      <td>Train</td>\n",
       "      <td>0.801192</td>\n",
       "    </tr>\n",
       "    <tr>\n",
       "      <th>1</th>\n",
       "      <td>Test</td>\n",
       "      <td>0.792351</td>\n",
       "    </tr>\n",
       "  </tbody>\n",
       "</table>\n",
       "</div>"
      ],
      "text/plain": [
       "  dataset    aucroc\n",
       "0   Train  0.801192\n",
       "1    Test  0.792351"
      ]
     },
     "execution_count": 36,
     "metadata": {},
     "output_type": "execute_result"
    }
   ],
   "source": [
    "xgb_tunned = xgb_random.best_estimator_.fit(xTrain.loc[:, feature_importances.index.tolist()], yTrain)\n",
    "xTrain_score = xgb_tunned.predict_proba(xTrain.loc[:, feature_importances.index.tolist()])[:,1].astype('float64')\n",
    "xTest_score = xgb_tunned.predict_proba(xTest.loc[:, feature_importances.index.tolist()])[:,1].astype('float64')\n",
    "auc_xTrain = roc_auc_score(yTrain, xTrain_score)\n",
    "auc_xTest = roc_auc_score(yTest, xTest_score)\n",
    "dataset = pd.DataFrame(['Train', 'Test'], columns = ['dataset'])\n",
    "auc = pd.DataFrame([auc_xTrain, auc_xTest], columns = ['aucroc']) \n",
    "table = pd.concat([dataset, auc], axis = 1)\n",
    "table"
   ]
  },
  {
   "cell_type": "code",
   "execution_count": 37,
   "metadata": {},
   "outputs": [],
   "source": [
    "book = load_workbook('benchmark_model.xlsx')\n",
    "writer = pd.ExcelWriter('benchmark_model.xlsx', engine = 'openpyxl')\n",
    "writer.book = book\n",
    "table.to_excel(writer, sheet_name = 'XGB', index = False, startrow=2)\n",
    "writer.save()"
   ]
  },
  {
   "cell_type": "code",
   "execution_count": 38,
   "metadata": {},
   "outputs": [
    {
     "name": "stdout",
     "output_type": "stream",
     "text": [
      "Train : No Model Score: ROC AUC=0.500\n",
      "Train : Model : ROC AUC=0.801\n"
     ]
    },
    {
     "data": {
      "image/png": "[encoded data removed]",
      "text/plain": [
       "<Figure size 432x288 with 1 Axes>"
      ]
     },
     "metadata": {
      "needs_background": "light"
     },
     "output_type": "display_data"
    },
    {
     "name": "stdout",
     "output_type": "stream",
     "text": [
      "Train : f1=0.519 auc=0.801\n",
      "Test : No Model Score: ROC AUC=0.500\n",
      "Test : Model : ROC AUC=0.792\n"
     ]
    },
    {
     "data": {
      "image/png": "[encoded data removed]",
      "text/plain": [
       "<Figure size 432x288 with 1 Axes>"
      ]
     },
     "metadata": {
      "needs_background": "light"
     },
     "output_type": "display_data"
    },
    {
     "name": "stdout",
     "output_type": "stream",
     "text": [
      "Test : Model : f1=0.523 auc=0.792\n",
      "Total : No Model Score: ROC AUC=0.500\n",
      "Total : Model : ROC AUC=0.797\n"
     ]
    },
    {
     "data": {
      "image/png": "[encoded data removed]",
      "text/plain": [
       "<Figure size 432x288 with 1 Axes>"
      ]
     },
     "metadata": {
      "needs_background": "light"
     },
     "output_type": "display_data"
    },
    {
     "name": "stdout",
     "output_type": "stream",
     "text": [
      "Unique_Customers : Model : f1=0.521 auc=0.797 weighted_accuracy=0.952\n"
     ]
    }
   ],
   "source": [
    "model_performance(yTrain, xTrain_score, xgb_tunned, xTrain, yTest, xTest_score, xTest, train_mem_txn_user_log1, writer, 'XGB')"
   ]
  }
 ],
 "metadata": {
  "kernelspec": {
   "display_name": "Python 3",
   "language": "python",
   "name": "python3"
  },
  "language_info": {
   "codemirror_mode": {
    "name": "ipython",
    "version": 3
   },
   "file_extension": ".py",
   "mimetype": "text/x-python",
   "name": "python",
   "nbconvert_exporter": "python",
   "pygments_lexer": "ipython3",
   "version": "3.7.6"
  }
 },
 "nbformat": 4,
 "nbformat_minor": 4
}
